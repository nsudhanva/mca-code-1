{
 "cells": [
  {
   "cell_type": "code",
   "execution_count": 13,
   "metadata": {},
   "outputs": [
    {
     "data": {
      "text/html": [
       "<div>\n",
       "<style scoped>\n",
       "    .dataframe tbody tr th:only-of-type {\n",
       "        vertical-align: middle;\n",
       "    }\n",
       "\n",
       "    .dataframe tbody tr th {\n",
       "        vertical-align: top;\n",
       "    }\n",
       "\n",
       "    .dataframe thead th {\n",
       "        text-align: right;\n",
       "    }\n",
       "</style>\n",
       "<table border=\"1\" class=\"dataframe\">\n",
       "  <thead>\n",
       "    <tr style=\"text-align: right;\">\n",
       "      <th></th>\n",
       "      <th>Date</th>\n",
       "      <th>Close</th>\n",
       "      <th>Open</th>\n",
       "      <th>High</th>\n",
       "      <th>Low</th>\n",
       "      <th>Vol-Million</th>\n",
       "      <th>Change %</th>\n",
       "    </tr>\n",
       "  </thead>\n",
       "  <tbody>\n",
       "    <tr>\n",
       "      <td>0</td>\n",
       "      <td>Jun 18, 2018</td>\n",
       "      <td>1269.20</td>\n",
       "      <td>1281.80</td>\n",
       "      <td>1291.00</td>\n",
       "      <td>1264.05</td>\n",
       "      <td>2.86</td>\n",
       "      <td>-0.01</td>\n",
       "    </tr>\n",
       "    <tr>\n",
       "      <td>1</td>\n",
       "      <td>Jun 15, 2018</td>\n",
       "      <td>1281.25</td>\n",
       "      <td>1237.00</td>\n",
       "      <td>1291.50</td>\n",
       "      <td>1235.00</td>\n",
       "      <td>9.98</td>\n",
       "      <td>0.03</td>\n",
       "    </tr>\n",
       "    <tr>\n",
       "      <td>2</td>\n",
       "      <td>Jun 14, 2018</td>\n",
       "      <td>1239.70</td>\n",
       "      <td>1253.00</td>\n",
       "      <td>1253.00</td>\n",
       "      <td>1234.10</td>\n",
       "      <td>3.80</td>\n",
       "      <td>-0.02</td>\n",
       "    </tr>\n",
       "    <tr>\n",
       "      <td>3</td>\n",
       "      <td>Jun 13, 2018</td>\n",
       "      <td>1264.80</td>\n",
       "      <td>1256.86</td>\n",
       "      <td>1273.93</td>\n",
       "      <td>1256.86</td>\n",
       "      <td>2.88</td>\n",
       "      <td>0.01</td>\n",
       "    </tr>\n",
       "    <tr>\n",
       "      <td>4</td>\n",
       "      <td>Jun 12, 2018</td>\n",
       "      <td>1248.63</td>\n",
       "      <td>1255.82</td>\n",
       "      <td>1261.28</td>\n",
       "      <td>1240.64</td>\n",
       "      <td>3.92</td>\n",
       "      <td>0.00</td>\n",
       "    </tr>\n",
       "  </tbody>\n",
       "</table>\n",
       "</div>"
      ],
      "text/plain": [
       "           Date    Close     Open     High      Low  Vol-Million  Change %\n",
       "0  Jun 18, 2018  1269.20  1281.80  1291.00  1264.05         2.86     -0.01\n",
       "1  Jun 15, 2018  1281.25  1237.00  1291.50  1235.00         9.98      0.03\n",
       "2  Jun 14, 2018  1239.70  1253.00  1253.00  1234.10         3.80     -0.02\n",
       "3  Jun 13, 2018  1264.80  1256.86  1273.93  1256.86         2.88      0.01\n",
       "4  Jun 12, 2018  1248.63  1255.82  1261.28  1240.64         3.92      0.00"
      ]
     },
     "execution_count": 13,
     "metadata": {},
     "output_type": "execute_result"
    }
   ],
   "source": [
    "import numpy as np\n",
    "import pandas as pd\n",
    "df = pd.read_csv('D:/Study/MCA/5thSem/ML/stock_infosys.csv')\n",
    "df.head()"
   ]
  },
  {
   "cell_type": "code",
   "execution_count": 14,
   "metadata": {},
   "outputs": [
    {
     "data": {
      "text/html": [
       "<div>\n",
       "<style scoped>\n",
       "    .dataframe tbody tr th:only-of-type {\n",
       "        vertical-align: middle;\n",
       "    }\n",
       "\n",
       "    .dataframe tbody tr th {\n",
       "        vertical-align: top;\n",
       "    }\n",
       "\n",
       "    .dataframe thead th {\n",
       "        text-align: right;\n",
       "    }\n",
       "</style>\n",
       "<table border=\"1\" class=\"dataframe\">\n",
       "  <thead>\n",
       "    <tr style=\"text-align: right;\">\n",
       "      <th></th>\n",
       "      <th>Close</th>\n",
       "      <th>Open</th>\n",
       "      <th>High</th>\n",
       "      <th>Low</th>\n",
       "      <th>Vol-Million</th>\n",
       "      <th>Change %</th>\n",
       "    </tr>\n",
       "  </thead>\n",
       "  <tbody>\n",
       "    <tr>\n",
       "      <td>count</td>\n",
       "      <td>249.000000</td>\n",
       "      <td>249.000000</td>\n",
       "      <td>249.000000</td>\n",
       "      <td>249.000000</td>\n",
       "      <td>249.000000</td>\n",
       "      <td>249.000000</td>\n",
       "    </tr>\n",
       "    <tr>\n",
       "      <td>mean</td>\n",
       "      <td>1047.640843</td>\n",
       "      <td>1047.032610</td>\n",
       "      <td>1058.415462</td>\n",
       "      <td>1037.086707</td>\n",
       "      <td>5.250602</td>\n",
       "      <td>0.001486</td>\n",
       "    </tr>\n",
       "    <tr>\n",
       "      <td>std</td>\n",
       "      <td>112.593895</td>\n",
       "      <td>110.537468</td>\n",
       "      <td>113.569532</td>\n",
       "      <td>110.114077</td>\n",
       "      <td>6.560495</td>\n",
       "      <td>0.014858</td>\n",
       "    </tr>\n",
       "    <tr>\n",
       "      <td>min</td>\n",
       "      <td>873.400000</td>\n",
       "      <td>880.000000</td>\n",
       "      <td>887.600000</td>\n",
       "      <td>860.000000</td>\n",
       "      <td>0.550000</td>\n",
       "      <td>-0.100000</td>\n",
       "    </tr>\n",
       "    <tr>\n",
       "      <td>25%</td>\n",
       "      <td>946.350000</td>\n",
       "      <td>945.000000</td>\n",
       "      <td>954.850000</td>\n",
       "      <td>938.000000</td>\n",
       "      <td>2.870000</td>\n",
       "      <td>-0.010000</td>\n",
       "    </tr>\n",
       "    <tr>\n",
       "      <td>50%</td>\n",
       "      <td>1013.100000</td>\n",
       "      <td>1011.900000</td>\n",
       "      <td>1021.700000</td>\n",
       "      <td>999.550000</td>\n",
       "      <td>3.800000</td>\n",
       "      <td>0.000000</td>\n",
       "    </tr>\n",
       "    <tr>\n",
       "      <td>75%</td>\n",
       "      <td>1155.650000</td>\n",
       "      <td>1152.000000</td>\n",
       "      <td>1166.600000</td>\n",
       "      <td>1142.650000</td>\n",
       "      <td>5.320000</td>\n",
       "      <td>0.010000</td>\n",
       "    </tr>\n",
       "    <tr>\n",
       "      <td>max</td>\n",
       "      <td>1281.250000</td>\n",
       "      <td>1281.800000</td>\n",
       "      <td>1291.500000</td>\n",
       "      <td>1264.050000</td>\n",
       "      <td>82.200000</td>\n",
       "      <td>0.050000</td>\n",
       "    </tr>\n",
       "  </tbody>\n",
       "</table>\n",
       "</div>"
      ],
      "text/plain": [
       "             Close         Open         High          Low  Vol-Million  \\\n",
       "count   249.000000   249.000000   249.000000   249.000000   249.000000   \n",
       "mean   1047.640843  1047.032610  1058.415462  1037.086707     5.250602   \n",
       "std     112.593895   110.537468   113.569532   110.114077     6.560495   \n",
       "min     873.400000   880.000000   887.600000   860.000000     0.550000   \n",
       "25%     946.350000   945.000000   954.850000   938.000000     2.870000   \n",
       "50%    1013.100000  1011.900000  1021.700000   999.550000     3.800000   \n",
       "75%    1155.650000  1152.000000  1166.600000  1142.650000     5.320000   \n",
       "max    1281.250000  1281.800000  1291.500000  1264.050000    82.200000   \n",
       "\n",
       "         Change %  \n",
       "count  249.000000  \n",
       "mean     0.001486  \n",
       "std      0.014858  \n",
       "min     -0.100000  \n",
       "25%     -0.010000  \n",
       "50%      0.000000  \n",
       "75%      0.010000  \n",
       "max      0.050000  "
      ]
     },
     "execution_count": 14,
     "metadata": {},
     "output_type": "execute_result"
    }
   ],
   "source": [
    "df.describe()"
   ]
  },
  {
   "cell_type": "code",
   "execution_count": 15,
   "metadata": {},
   "outputs": [
    {
     "data": {
      "text/html": [
       "<div>\n",
       "<style scoped>\n",
       "    .dataframe tbody tr th:only-of-type {\n",
       "        vertical-align: middle;\n",
       "    }\n",
       "\n",
       "    .dataframe tbody tr th {\n",
       "        vertical-align: top;\n",
       "    }\n",
       "\n",
       "    .dataframe thead th {\n",
       "        text-align: right;\n",
       "    }\n",
       "</style>\n",
       "<table border=\"1\" class=\"dataframe\">\n",
       "  <thead>\n",
       "    <tr style=\"text-align: right;\">\n",
       "      <th></th>\n",
       "      <th>Open</th>\n",
       "      <th>High</th>\n",
       "      <th>Low</th>\n",
       "    </tr>\n",
       "  </thead>\n",
       "  <tbody>\n",
       "    <tr>\n",
       "      <td>0</td>\n",
       "      <td>1281.80</td>\n",
       "      <td>1291.00</td>\n",
       "      <td>1264.05</td>\n",
       "    </tr>\n",
       "    <tr>\n",
       "      <td>1</td>\n",
       "      <td>1237.00</td>\n",
       "      <td>1291.50</td>\n",
       "      <td>1235.00</td>\n",
       "    </tr>\n",
       "    <tr>\n",
       "      <td>2</td>\n",
       "      <td>1253.00</td>\n",
       "      <td>1253.00</td>\n",
       "      <td>1234.10</td>\n",
       "    </tr>\n",
       "    <tr>\n",
       "      <td>3</td>\n",
       "      <td>1256.86</td>\n",
       "      <td>1273.93</td>\n",
       "      <td>1256.86</td>\n",
       "    </tr>\n",
       "    <tr>\n",
       "      <td>4</td>\n",
       "      <td>1255.82</td>\n",
       "      <td>1261.28</td>\n",
       "      <td>1240.64</td>\n",
       "    </tr>\n",
       "  </tbody>\n",
       "</table>\n",
       "</div>"
      ],
      "text/plain": [
       "      Open     High      Low\n",
       "0  1281.80  1291.00  1264.05\n",
       "1  1237.00  1291.50  1235.00\n",
       "2  1253.00  1253.00  1234.10\n",
       "3  1256.86  1273.93  1256.86\n",
       "4  1255.82  1261.28  1240.64"
      ]
     },
     "execution_count": 15,
     "metadata": {},
     "output_type": "execute_result"
    }
   ],
   "source": [
    "x = df[['Open', 'High', 'Low']]\n",
    "x.head()"
   ]
  },
  {
   "cell_type": "code",
   "execution_count": 16,
   "metadata": {},
   "outputs": [
    {
     "data": {
      "text/plain": [
       "0    1269.20\n",
       "1    1281.25\n",
       "2    1239.70\n",
       "3    1264.80\n",
       "4    1248.63\n",
       "Name: Close, dtype: float64"
      ]
     },
     "execution_count": 16,
     "metadata": {},
     "output_type": "execute_result"
    }
   ],
   "source": [
    "y = df['Close']\n",
    "y.head()"
   ]
  },
  {
   "cell_type": "code",
   "execution_count": 17,
   "metadata": {},
   "outputs": [
    {
     "name": "stdout",
     "output_type": "stream",
     "text": [
      "(174, 3)\n",
      "(75, 3)\n"
     ]
    }
   ],
   "source": [
    "from sklearn.model_selection import train_test_split\n",
    "x_train, x_test, y_train, y_test = train_test_split(x, y, test_size = 0.3, random_state = 40) \n",
    "print(x_train.shape)\n",
    "print(x_test.shape)"
   ]
  },
  {
   "cell_type": "code",
   "execution_count": 18,
   "metadata": {},
   "outputs": [],
   "source": [
    "from sklearn.tree import DecisionTreeRegressor\n",
    "dtr = DecisionTreeRegressor(criterion = 'mse', max_depth = 5, min_samples_split = 10)\n",
    "dtr.fit(x_train, y_train)\n",
    "y_pred = dtr.predict(x_train)"
   ]
  },
  {
   "cell_type": "code",
   "execution_count": 19,
   "metadata": {},
   "outputs": [
    {
     "name": "stdout",
     "output_type": "stream",
     "text": [
      "28.700337774812972\n",
      "0.9977777170681104\n"
     ]
    }
   ],
   "source": [
    "from sklearn.metrics import mean_squared_error, r2_score\n",
    "result = mean_squared_error(y_train, y_pred)\n",
    "r2 = r2_score(y_train, y_pred)\n",
    "print(result)\n",
    "print(r2)"
   ]
  },
  {
   "cell_type": "code",
   "execution_count": 20,
   "metadata": {},
   "outputs": [],
   "source": [
    "from sklearn.ensemble import BaggingRegressor, RandomForestRegressor, AdaBoostRegressor"
   ]
  },
  {
   "cell_type": "code",
   "execution_count": 21,
   "metadata": {},
   "outputs": [
    {
     "name": "stdout",
     "output_type": "stream",
     "text": [
      "28.700337774812972\n",
      "0.993259295809782\n"
     ]
    }
   ],
   "source": [
    "bagm = BaggingRegressor()\n",
    "bagm.fit(x_train, y_train)\n",
    "pred = bagm.predict(x_test)\n",
    "from sklearn.metrics import r2_score\n",
    "r2 = r2_score(y_test, pred)\n",
    "result = mean_squared_error(y_train, y_pred)\n",
    "print(result)\n",
    "print(r2)"
   ]
  },
  {
   "cell_type": "code",
   "execution_count": 22,
   "metadata": {},
   "outputs": [
    {
     "name": "stdout",
     "output_type": "stream",
     "text": [
      "28.700337774812972\n",
      "0.9920021494804419\n"
     ]
    }
   ],
   "source": [
    "rfm = RandomForestRegressor(n_estimators = 6)\n",
    "rfm.fit(x_train, y_train)\n",
    "pred = rfm.predict(x_test)\n",
    "from sklearn.metrics import r2_score\n",
    "r2 = r2_score(y_test, pred)\n",
    "result = mean_squared_error(y_train, y_pred)\n",
    "print(result)\n",
    "print(r2)"
   ]
  },
  {
   "cell_type": "code",
   "execution_count": 23,
   "metadata": {},
   "outputs": [
    {
     "name": "stdout",
     "output_type": "stream",
     "text": [
      "28.700337774812972\n",
      "0.9903462001070933\n"
     ]
    }
   ],
   "source": [
    "adam = AdaBoostRegressor()\n",
    "adam.fit(x_train, y_train)\n",
    "pred = adam.predict(x_test)\n",
    "from sklearn.metrics import r2_score\n",
    "r2 = r2_score(y_test, pred)\n",
    "result = mean_squared_error(y_train, y_pred)\n",
    "print(result)\n",
    "print(r2)"
   ]
  },
  {
   "cell_type": "code",
   "execution_count": 24,
   "metadata": {},
   "outputs": [
    {
     "data": {
      "text/plain": [
       "<bound method BaseEstimator.get_params of RandomForestRegressor(bootstrap=True, criterion='mse', max_depth=None,\n",
       "                      max_features='auto', max_leaf_nodes=None,\n",
       "                      min_impurity_decrease=0.0, min_impurity_split=None,\n",
       "                      min_samples_leaf=1, min_samples_split=2,\n",
       "                      min_weight_fraction_leaf=0.0, n_estimators=6, n_jobs=None,\n",
       "                      oob_score=False, random_state=None, verbose=0,\n",
       "                      warm_start=False)>"
      ]
     },
     "execution_count": 24,
     "metadata": {},
     "output_type": "execute_result"
    }
   ],
   "source": [
    "rfm.get_params"
   ]
  },
  {
   "cell_type": "code",
   "execution_count": 37,
   "metadata": {},
   "outputs": [],
   "source": [
    "grid_param = {'criterion': ['mse'],\n",
    "             'max_depth': [4, 5],\n",
    "             'min_samples_leaf': [1, 2, 3],\n",
    "             'min_samples_split': [4, 5],\n",
    "             'n_estimators': [100, 150, 200],\n",
    "             'n_jobs': [-1]}"
   ]
  },
  {
   "cell_type": "code",
   "execution_count": 38,
   "metadata": {},
   "outputs": [],
   "source": [
    "from sklearn.model_selection import GridSearchCV"
   ]
  },
  {
   "cell_type": "code",
   "execution_count": 39,
   "metadata": {},
   "outputs": [],
   "source": [
    "grid = GridSearchCV(estimator = rfm, param_grid = grid_param, cv = 3, verbose = 2)"
   ]
  },
  {
   "cell_type": "code",
   "execution_count": 40,
   "metadata": {},
   "outputs": [
    {
     "name": "stdout",
     "output_type": "stream",
     "text": [
      "Fitting 3 folds for each of 36 candidates, totalling 108 fits\n",
      "[CV] criterion=mse, max_depth=4, min_samples_leaf=1, min_samples_split=4, n_estimators=100, n_jobs=-1 \n"
     ]
    },
    {
     "name": "stderr",
     "output_type": "stream",
     "text": [
      "[Parallel(n_jobs=1)]: Using backend SequentialBackend with 1 concurrent workers.\n"
     ]
    },
    {
     "name": "stdout",
     "output_type": "stream",
     "text": [
      "[CV]  criterion=mse, max_depth=4, min_samples_leaf=1, min_samples_split=4, n_estimators=100, n_jobs=-1, total=   2.4s\n",
      "[CV] criterion=mse, max_depth=4, min_samples_leaf=1, min_samples_split=4, n_estimators=100, n_jobs=-1 \n"
     ]
    },
    {
     "name": "stderr",
     "output_type": "stream",
     "text": [
      "[Parallel(n_jobs=1)]: Done   1 out of   1 | elapsed:    2.3s remaining:    0.0s\n"
     ]
    },
    {
     "name": "stdout",
     "output_type": "stream",
     "text": [
      "[CV]  criterion=mse, max_depth=4, min_samples_leaf=1, min_samples_split=4, n_estimators=100, n_jobs=-1, total=   0.2s\n",
      "[CV] criterion=mse, max_depth=4, min_samples_leaf=1, min_samples_split=4, n_estimators=100, n_jobs=-1 \n",
      "[CV]  criterion=mse, max_depth=4, min_samples_leaf=1, min_samples_split=4, n_estimators=100, n_jobs=-1, total=   0.2s\n",
      "[CV] criterion=mse, max_depth=4, min_samples_leaf=1, min_samples_split=4, n_estimators=150, n_jobs=-1 \n",
      "[CV]  criterion=mse, max_depth=4, min_samples_leaf=1, min_samples_split=4, n_estimators=150, n_jobs=-1, total=   0.3s\n",
      "[CV] criterion=mse, max_depth=4, min_samples_leaf=1, min_samples_split=4, n_estimators=150, n_jobs=-1 \n",
      "[CV]  criterion=mse, max_depth=4, min_samples_leaf=1, min_samples_split=4, n_estimators=150, n_jobs=-1, total=   0.3s\n",
      "[CV] criterion=mse, max_depth=4, min_samples_leaf=1, min_samples_split=4, n_estimators=150, n_jobs=-1 \n",
      "[CV]  criterion=mse, max_depth=4, min_samples_leaf=1, min_samples_split=4, n_estimators=150, n_jobs=-1, total=   0.3s\n",
      "[CV] criterion=mse, max_depth=4, min_samples_leaf=1, min_samples_split=4, n_estimators=200, n_jobs=-1 \n",
      "[CV]  criterion=mse, max_depth=4, min_samples_leaf=1, min_samples_split=4, n_estimators=200, n_jobs=-1, total=   0.3s\n",
      "[CV] criterion=mse, max_depth=4, min_samples_leaf=1, min_samples_split=4, n_estimators=200, n_jobs=-1 \n",
      "[CV]  criterion=mse, max_depth=4, min_samples_leaf=1, min_samples_split=4, n_estimators=200, n_jobs=-1, total=   0.4s\n",
      "[CV] criterion=mse, max_depth=4, min_samples_leaf=1, min_samples_split=4, n_estimators=200, n_jobs=-1 \n",
      "[CV]  criterion=mse, max_depth=4, min_samples_leaf=1, min_samples_split=4, n_estimators=200, n_jobs=-1, total=   0.4s\n",
      "[CV] criterion=mse, max_depth=4, min_samples_leaf=1, min_samples_split=5, n_estimators=100, n_jobs=-1 \n",
      "[CV]  criterion=mse, max_depth=4, min_samples_leaf=1, min_samples_split=5, n_estimators=100, n_jobs=-1, total=   0.3s\n",
      "[CV] criterion=mse, max_depth=4, min_samples_leaf=1, min_samples_split=5, n_estimators=100, n_jobs=-1 \n",
      "[CV]  criterion=mse, max_depth=4, min_samples_leaf=1, min_samples_split=5, n_estimators=100, n_jobs=-1, total=   0.2s\n",
      "[CV] criterion=mse, max_depth=4, min_samples_leaf=1, min_samples_split=5, n_estimators=100, n_jobs=-1 \n",
      "[CV]  criterion=mse, max_depth=4, min_samples_leaf=1, min_samples_split=5, n_estimators=100, n_jobs=-1, total=   0.2s\n",
      "[CV] criterion=mse, max_depth=4, min_samples_leaf=1, min_samples_split=5, n_estimators=150, n_jobs=-1 \n",
      "[CV]  criterion=mse, max_depth=4, min_samples_leaf=1, min_samples_split=5, n_estimators=150, n_jobs=-1, total=   0.3s\n",
      "[CV] criterion=mse, max_depth=4, min_samples_leaf=1, min_samples_split=5, n_estimators=150, n_jobs=-1 \n",
      "[CV]  criterion=mse, max_depth=4, min_samples_leaf=1, min_samples_split=5, n_estimators=150, n_jobs=-1, total=   0.3s\n",
      "[CV] criterion=mse, max_depth=4, min_samples_leaf=1, min_samples_split=5, n_estimators=150, n_jobs=-1 \n",
      "[CV]  criterion=mse, max_depth=4, min_samples_leaf=1, min_samples_split=5, n_estimators=150, n_jobs=-1, total=   0.3s\n",
      "[CV] criterion=mse, max_depth=4, min_samples_leaf=1, min_samples_split=5, n_estimators=200, n_jobs=-1 \n",
      "[CV]  criterion=mse, max_depth=4, min_samples_leaf=1, min_samples_split=5, n_estimators=200, n_jobs=-1, total=   0.3s\n",
      "[CV] criterion=mse, max_depth=4, min_samples_leaf=1, min_samples_split=5, n_estimators=200, n_jobs=-1 \n",
      "[CV]  criterion=mse, max_depth=4, min_samples_leaf=1, min_samples_split=5, n_estimators=200, n_jobs=-1, total=   0.3s\n",
      "[CV] criterion=mse, max_depth=4, min_samples_leaf=1, min_samples_split=5, n_estimators=200, n_jobs=-1 \n",
      "[CV]  criterion=mse, max_depth=4, min_samples_leaf=1, min_samples_split=5, n_estimators=200, n_jobs=-1, total=   0.4s\n",
      "[CV] criterion=mse, max_depth=4, min_samples_leaf=2, min_samples_split=4, n_estimators=100, n_jobs=-1 \n",
      "[CV]  criterion=mse, max_depth=4, min_samples_leaf=2, min_samples_split=4, n_estimators=100, n_jobs=-1, total=   0.3s\n",
      "[CV] criterion=mse, max_depth=4, min_samples_leaf=2, min_samples_split=4, n_estimators=100, n_jobs=-1 \n",
      "[CV]  criterion=mse, max_depth=4, min_samples_leaf=2, min_samples_split=4, n_estimators=100, n_jobs=-1, total=   0.2s\n",
      "[CV] criterion=mse, max_depth=4, min_samples_leaf=2, min_samples_split=4, n_estimators=100, n_jobs=-1 \n",
      "[CV]  criterion=mse, max_depth=4, min_samples_leaf=2, min_samples_split=4, n_estimators=100, n_jobs=-1, total=   0.2s\n",
      "[CV] criterion=mse, max_depth=4, min_samples_leaf=2, min_samples_split=4, n_estimators=150, n_jobs=-1 \n",
      "[CV]  criterion=mse, max_depth=4, min_samples_leaf=2, min_samples_split=4, n_estimators=150, n_jobs=-1, total=   0.3s\n",
      "[CV] criterion=mse, max_depth=4, min_samples_leaf=2, min_samples_split=4, n_estimators=150, n_jobs=-1 \n",
      "[CV]  criterion=mse, max_depth=4, min_samples_leaf=2, min_samples_split=4, n_estimators=150, n_jobs=-1, total=   0.3s\n",
      "[CV] criterion=mse, max_depth=4, min_samples_leaf=2, min_samples_split=4, n_estimators=150, n_jobs=-1 \n",
      "[CV]  criterion=mse, max_depth=4, min_samples_leaf=2, min_samples_split=4, n_estimators=150, n_jobs=-1, total=   0.3s\n",
      "[CV] criterion=mse, max_depth=4, min_samples_leaf=2, min_samples_split=4, n_estimators=200, n_jobs=-1 \n",
      "[CV]  criterion=mse, max_depth=4, min_samples_leaf=2, min_samples_split=4, n_estimators=200, n_jobs=-1, total=   0.3s\n",
      "[CV] criterion=mse, max_depth=4, min_samples_leaf=2, min_samples_split=4, n_estimators=200, n_jobs=-1 \n",
      "[CV]  criterion=mse, max_depth=4, min_samples_leaf=2, min_samples_split=4, n_estimators=200, n_jobs=-1, total=   0.3s\n",
      "[CV] criterion=mse, max_depth=4, min_samples_leaf=2, min_samples_split=4, n_estimators=200, n_jobs=-1 \n",
      "[CV]  criterion=mse, max_depth=4, min_samples_leaf=2, min_samples_split=4, n_estimators=200, n_jobs=-1, total=   0.3s\n",
      "[CV] criterion=mse, max_depth=4, min_samples_leaf=2, min_samples_split=5, n_estimators=100, n_jobs=-1 \n",
      "[CV]  criterion=mse, max_depth=4, min_samples_leaf=2, min_samples_split=5, n_estimators=100, n_jobs=-1, total=   0.2s\n",
      "[CV] criterion=mse, max_depth=4, min_samples_leaf=2, min_samples_split=5, n_estimators=100, n_jobs=-1 \n",
      "[CV]  criterion=mse, max_depth=4, min_samples_leaf=2, min_samples_split=5, n_estimators=100, n_jobs=-1, total=   0.3s\n",
      "[CV] criterion=mse, max_depth=4, min_samples_leaf=2, min_samples_split=5, n_estimators=100, n_jobs=-1 \n",
      "[CV]  criterion=mse, max_depth=4, min_samples_leaf=2, min_samples_split=5, n_estimators=100, n_jobs=-1, total=   0.3s\n",
      "[CV] criterion=mse, max_depth=4, min_samples_leaf=2, min_samples_split=5, n_estimators=150, n_jobs=-1 \n",
      "[CV]  criterion=mse, max_depth=4, min_samples_leaf=2, min_samples_split=5, n_estimators=150, n_jobs=-1, total=   0.3s\n",
      "[CV] criterion=mse, max_depth=4, min_samples_leaf=2, min_samples_split=5, n_estimators=150, n_jobs=-1 \n",
      "[CV]  criterion=mse, max_depth=4, min_samples_leaf=2, min_samples_split=5, n_estimators=150, n_jobs=-1, total=   0.3s\n",
      "[CV] criterion=mse, max_depth=4, min_samples_leaf=2, min_samples_split=5, n_estimators=150, n_jobs=-1 \n",
      "[CV]  criterion=mse, max_depth=4, min_samples_leaf=2, min_samples_split=5, n_estimators=150, n_jobs=-1, total=   0.3s\n",
      "[CV] criterion=mse, max_depth=4, min_samples_leaf=2, min_samples_split=5, n_estimators=200, n_jobs=-1 \n",
      "[CV]  criterion=mse, max_depth=4, min_samples_leaf=2, min_samples_split=5, n_estimators=200, n_jobs=-1, total=   0.3s\n",
      "[CV] criterion=mse, max_depth=4, min_samples_leaf=2, min_samples_split=5, n_estimators=200, n_jobs=-1 \n",
      "[CV]  criterion=mse, max_depth=4, min_samples_leaf=2, min_samples_split=5, n_estimators=200, n_jobs=-1, total=   0.3s\n",
      "[CV] criterion=mse, max_depth=4, min_samples_leaf=2, min_samples_split=5, n_estimators=200, n_jobs=-1 \n",
      "[CV]  criterion=mse, max_depth=4, min_samples_leaf=2, min_samples_split=5, n_estimators=200, n_jobs=-1, total=   0.4s\n",
      "[CV] criterion=mse, max_depth=4, min_samples_leaf=3, min_samples_split=4, n_estimators=100, n_jobs=-1 \n",
      "[CV]  criterion=mse, max_depth=4, min_samples_leaf=3, min_samples_split=4, n_estimators=100, n_jobs=-1, total=   0.3s\n",
      "[CV] criterion=mse, max_depth=4, min_samples_leaf=3, min_samples_split=4, n_estimators=100, n_jobs=-1 \n",
      "[CV]  criterion=mse, max_depth=4, min_samples_leaf=3, min_samples_split=4, n_estimators=100, n_jobs=-1, total=   0.2s\n",
      "[CV] criterion=mse, max_depth=4, min_samples_leaf=3, min_samples_split=4, n_estimators=100, n_jobs=-1 \n",
      "[CV]  criterion=mse, max_depth=4, min_samples_leaf=3, min_samples_split=4, n_estimators=100, n_jobs=-1, total=   0.2s\n",
      "[CV] criterion=mse, max_depth=4, min_samples_leaf=3, min_samples_split=4, n_estimators=150, n_jobs=-1 \n"
     ]
    },
    {
     "name": "stdout",
     "output_type": "stream",
     "text": [
      "[CV]  criterion=mse, max_depth=4, min_samples_leaf=3, min_samples_split=4, n_estimators=150, n_jobs=-1, total=   0.3s\n",
      "[CV] criterion=mse, max_depth=4, min_samples_leaf=3, min_samples_split=4, n_estimators=150, n_jobs=-1 \n",
      "[CV]  criterion=mse, max_depth=4, min_samples_leaf=3, min_samples_split=4, n_estimators=150, n_jobs=-1, total=   0.3s\n",
      "[CV] criterion=mse, max_depth=4, min_samples_leaf=3, min_samples_split=4, n_estimators=150, n_jobs=-1 \n",
      "[CV]  criterion=mse, max_depth=4, min_samples_leaf=3, min_samples_split=4, n_estimators=150, n_jobs=-1, total=   0.3s\n",
      "[CV] criterion=mse, max_depth=4, min_samples_leaf=3, min_samples_split=4, n_estimators=200, n_jobs=-1 \n",
      "[CV]  criterion=mse, max_depth=4, min_samples_leaf=3, min_samples_split=4, n_estimators=200, n_jobs=-1, total=   0.4s\n",
      "[CV] criterion=mse, max_depth=4, min_samples_leaf=3, min_samples_split=4, n_estimators=200, n_jobs=-1 \n",
      "[CV]  criterion=mse, max_depth=4, min_samples_leaf=3, min_samples_split=4, n_estimators=200, n_jobs=-1, total=   0.4s\n",
      "[CV] criterion=mse, max_depth=4, min_samples_leaf=3, min_samples_split=4, n_estimators=200, n_jobs=-1 \n",
      "[CV]  criterion=mse, max_depth=4, min_samples_leaf=3, min_samples_split=4, n_estimators=200, n_jobs=-1, total=   0.3s\n",
      "[CV] criterion=mse, max_depth=4, min_samples_leaf=3, min_samples_split=5, n_estimators=100, n_jobs=-1 \n",
      "[CV]  criterion=mse, max_depth=4, min_samples_leaf=3, min_samples_split=5, n_estimators=100, n_jobs=-1, total=   0.3s\n",
      "[CV] criterion=mse, max_depth=4, min_samples_leaf=3, min_samples_split=5, n_estimators=100, n_jobs=-1 \n",
      "[CV]  criterion=mse, max_depth=4, min_samples_leaf=3, min_samples_split=5, n_estimators=100, n_jobs=-1, total=   0.2s\n",
      "[CV] criterion=mse, max_depth=4, min_samples_leaf=3, min_samples_split=5, n_estimators=100, n_jobs=-1 \n",
      "[CV]  criterion=mse, max_depth=4, min_samples_leaf=3, min_samples_split=5, n_estimators=100, n_jobs=-1, total=   0.3s\n",
      "[CV] criterion=mse, max_depth=4, min_samples_leaf=3, min_samples_split=5, n_estimators=150, n_jobs=-1 \n",
      "[CV]  criterion=mse, max_depth=4, min_samples_leaf=3, min_samples_split=5, n_estimators=150, n_jobs=-1, total=   0.3s\n",
      "[CV] criterion=mse, max_depth=4, min_samples_leaf=3, min_samples_split=5, n_estimators=150, n_jobs=-1 \n",
      "[CV]  criterion=mse, max_depth=4, min_samples_leaf=3, min_samples_split=5, n_estimators=150, n_jobs=-1, total=   0.3s\n",
      "[CV] criterion=mse, max_depth=4, min_samples_leaf=3, min_samples_split=5, n_estimators=150, n_jobs=-1 \n",
      "[CV]  criterion=mse, max_depth=4, min_samples_leaf=3, min_samples_split=5, n_estimators=150, n_jobs=-1, total=   0.3s\n",
      "[CV] criterion=mse, max_depth=4, min_samples_leaf=3, min_samples_split=5, n_estimators=200, n_jobs=-1 \n",
      "[CV]  criterion=mse, max_depth=4, min_samples_leaf=3, min_samples_split=5, n_estimators=200, n_jobs=-1, total=   0.4s\n",
      "[CV] criterion=mse, max_depth=4, min_samples_leaf=3, min_samples_split=5, n_estimators=200, n_jobs=-1 \n",
      "[CV]  criterion=mse, max_depth=4, min_samples_leaf=3, min_samples_split=5, n_estimators=200, n_jobs=-1, total=   0.3s\n",
      "[CV] criterion=mse, max_depth=4, min_samples_leaf=3, min_samples_split=5, n_estimators=200, n_jobs=-1 \n",
      "[CV]  criterion=mse, max_depth=4, min_samples_leaf=3, min_samples_split=5, n_estimators=200, n_jobs=-1, total=   0.3s\n",
      "[CV] criterion=mse, max_depth=5, min_samples_leaf=1, min_samples_split=4, n_estimators=100, n_jobs=-1 \n",
      "[CV]  criterion=mse, max_depth=5, min_samples_leaf=1, min_samples_split=4, n_estimators=100, n_jobs=-1, total=   0.3s\n",
      "[CV] criterion=mse, max_depth=5, min_samples_leaf=1, min_samples_split=4, n_estimators=100, n_jobs=-1 \n",
      "[CV]  criterion=mse, max_depth=5, min_samples_leaf=1, min_samples_split=4, n_estimators=100, n_jobs=-1, total=   0.3s\n",
      "[CV] criterion=mse, max_depth=5, min_samples_leaf=1, min_samples_split=4, n_estimators=100, n_jobs=-1 \n",
      "[CV]  criterion=mse, max_depth=5, min_samples_leaf=1, min_samples_split=4, n_estimators=100, n_jobs=-1, total=   0.2s\n",
      "[CV] criterion=mse, max_depth=5, min_samples_leaf=1, min_samples_split=4, n_estimators=150, n_jobs=-1 \n",
      "[CV]  criterion=mse, max_depth=5, min_samples_leaf=1, min_samples_split=4, n_estimators=150, n_jobs=-1, total=   0.3s\n",
      "[CV] criterion=mse, max_depth=5, min_samples_leaf=1, min_samples_split=4, n_estimators=150, n_jobs=-1 \n",
      "[CV]  criterion=mse, max_depth=5, min_samples_leaf=1, min_samples_split=4, n_estimators=150, n_jobs=-1, total=   0.3s\n",
      "[CV] criterion=mse, max_depth=5, min_samples_leaf=1, min_samples_split=4, n_estimators=150, n_jobs=-1 \n",
      "[CV]  criterion=mse, max_depth=5, min_samples_leaf=1, min_samples_split=4, n_estimators=150, n_jobs=-1, total=   0.3s\n",
      "[CV] criterion=mse, max_depth=5, min_samples_leaf=1, min_samples_split=4, n_estimators=200, n_jobs=-1 \n",
      "[CV]  criterion=mse, max_depth=5, min_samples_leaf=1, min_samples_split=4, n_estimators=200, n_jobs=-1, total=   0.3s\n",
      "[CV] criterion=mse, max_depth=5, min_samples_leaf=1, min_samples_split=4, n_estimators=200, n_jobs=-1 \n",
      "[CV]  criterion=mse, max_depth=5, min_samples_leaf=1, min_samples_split=4, n_estimators=200, n_jobs=-1, total=   0.3s\n",
      "[CV] criterion=mse, max_depth=5, min_samples_leaf=1, min_samples_split=4, n_estimators=200, n_jobs=-1 \n",
      "[CV]  criterion=mse, max_depth=5, min_samples_leaf=1, min_samples_split=4, n_estimators=200, n_jobs=-1, total=   0.3s\n",
      "[CV] criterion=mse, max_depth=5, min_samples_leaf=1, min_samples_split=5, n_estimators=100, n_jobs=-1 \n",
      "[CV]  criterion=mse, max_depth=5, min_samples_leaf=1, min_samples_split=5, n_estimators=100, n_jobs=-1, total=   0.3s\n",
      "[CV] criterion=mse, max_depth=5, min_samples_leaf=1, min_samples_split=5, n_estimators=100, n_jobs=-1 \n",
      "[CV]  criterion=mse, max_depth=5, min_samples_leaf=1, min_samples_split=5, n_estimators=100, n_jobs=-1, total=   0.2s\n",
      "[CV] criterion=mse, max_depth=5, min_samples_leaf=1, min_samples_split=5, n_estimators=100, n_jobs=-1 \n",
      "[CV]  criterion=mse, max_depth=5, min_samples_leaf=1, min_samples_split=5, n_estimators=100, n_jobs=-1, total=   0.2s\n",
      "[CV] criterion=mse, max_depth=5, min_samples_leaf=1, min_samples_split=5, n_estimators=150, n_jobs=-1 \n",
      "[CV]  criterion=mse, max_depth=5, min_samples_leaf=1, min_samples_split=5, n_estimators=150, n_jobs=-1, total=   0.3s\n",
      "[CV] criterion=mse, max_depth=5, min_samples_leaf=1, min_samples_split=5, n_estimators=150, n_jobs=-1 \n",
      "[CV]  criterion=mse, max_depth=5, min_samples_leaf=1, min_samples_split=5, n_estimators=150, n_jobs=-1, total=   0.3s\n",
      "[CV] criterion=mse, max_depth=5, min_samples_leaf=1, min_samples_split=5, n_estimators=150, n_jobs=-1 \n",
      "[CV]  criterion=mse, max_depth=5, min_samples_leaf=1, min_samples_split=5, n_estimators=150, n_jobs=-1, total=   0.3s\n",
      "[CV] criterion=mse, max_depth=5, min_samples_leaf=1, min_samples_split=5, n_estimators=200, n_jobs=-1 \n",
      "[CV]  criterion=mse, max_depth=5, min_samples_leaf=1, min_samples_split=5, n_estimators=200, n_jobs=-1, total=   0.4s\n",
      "[CV] criterion=mse, max_depth=5, min_samples_leaf=1, min_samples_split=5, n_estimators=200, n_jobs=-1 \n",
      "[CV]  criterion=mse, max_depth=5, min_samples_leaf=1, min_samples_split=5, n_estimators=200, n_jobs=-1, total=   0.4s\n",
      "[CV] criterion=mse, max_depth=5, min_samples_leaf=1, min_samples_split=5, n_estimators=200, n_jobs=-1 \n",
      "[CV]  criterion=mse, max_depth=5, min_samples_leaf=1, min_samples_split=5, n_estimators=200, n_jobs=-1, total=   0.4s\n",
      "[CV] criterion=mse, max_depth=5, min_samples_leaf=2, min_samples_split=4, n_estimators=100, n_jobs=-1 \n",
      "[CV]  criterion=mse, max_depth=5, min_samples_leaf=2, min_samples_split=4, n_estimators=100, n_jobs=-1, total=   0.2s\n",
      "[CV] criterion=mse, max_depth=5, min_samples_leaf=2, min_samples_split=4, n_estimators=100, n_jobs=-1 \n",
      "[CV]  criterion=mse, max_depth=5, min_samples_leaf=2, min_samples_split=4, n_estimators=100, n_jobs=-1, total=   0.3s\n",
      "[CV] criterion=mse, max_depth=5, min_samples_leaf=2, min_samples_split=4, n_estimators=100, n_jobs=-1 \n",
      "[CV]  criterion=mse, max_depth=5, min_samples_leaf=2, min_samples_split=4, n_estimators=100, n_jobs=-1, total=   0.3s\n",
      "[CV] criterion=mse, max_depth=5, min_samples_leaf=2, min_samples_split=4, n_estimators=150, n_jobs=-1 \n",
      "[CV]  criterion=mse, max_depth=5, min_samples_leaf=2, min_samples_split=4, n_estimators=150, n_jobs=-1, total=   0.3s\n",
      "[CV] criterion=mse, max_depth=5, min_samples_leaf=2, min_samples_split=4, n_estimators=150, n_jobs=-1 \n",
      "[CV]  criterion=mse, max_depth=5, min_samples_leaf=2, min_samples_split=4, n_estimators=150, n_jobs=-1, total=   0.3s\n",
      "[CV] criterion=mse, max_depth=5, min_samples_leaf=2, min_samples_split=4, n_estimators=150, n_jobs=-1 \n"
     ]
    },
    {
     "name": "stdout",
     "output_type": "stream",
     "text": [
      "[CV]  criterion=mse, max_depth=5, min_samples_leaf=2, min_samples_split=4, n_estimators=150, n_jobs=-1, total=   0.3s\n",
      "[CV] criterion=mse, max_depth=5, min_samples_leaf=2, min_samples_split=4, n_estimators=200, n_jobs=-1 \n",
      "[CV]  criterion=mse, max_depth=5, min_samples_leaf=2, min_samples_split=4, n_estimators=200, n_jobs=-1, total=   0.3s\n",
      "[CV] criterion=mse, max_depth=5, min_samples_leaf=2, min_samples_split=4, n_estimators=200, n_jobs=-1 \n",
      "[CV]  criterion=mse, max_depth=5, min_samples_leaf=2, min_samples_split=4, n_estimators=200, n_jobs=-1, total=   0.3s\n",
      "[CV] criterion=mse, max_depth=5, min_samples_leaf=2, min_samples_split=4, n_estimators=200, n_jobs=-1 \n",
      "[CV]  criterion=mse, max_depth=5, min_samples_leaf=2, min_samples_split=4, n_estimators=200, n_jobs=-1, total=   0.3s\n",
      "[CV] criterion=mse, max_depth=5, min_samples_leaf=2, min_samples_split=5, n_estimators=100, n_jobs=-1 \n",
      "[CV]  criterion=mse, max_depth=5, min_samples_leaf=2, min_samples_split=5, n_estimators=100, n_jobs=-1, total=   0.2s\n",
      "[CV] criterion=mse, max_depth=5, min_samples_leaf=2, min_samples_split=5, n_estimators=100, n_jobs=-1 \n",
      "[CV]  criterion=mse, max_depth=5, min_samples_leaf=2, min_samples_split=5, n_estimators=100, n_jobs=-1, total=   0.2s\n",
      "[CV] criterion=mse, max_depth=5, min_samples_leaf=2, min_samples_split=5, n_estimators=100, n_jobs=-1 \n",
      "[CV]  criterion=mse, max_depth=5, min_samples_leaf=2, min_samples_split=5, n_estimators=100, n_jobs=-1, total=   0.3s\n",
      "[CV] criterion=mse, max_depth=5, min_samples_leaf=2, min_samples_split=5, n_estimators=150, n_jobs=-1 \n",
      "[CV]  criterion=mse, max_depth=5, min_samples_leaf=2, min_samples_split=5, n_estimators=150, n_jobs=-1, total=   0.5s\n",
      "[CV] criterion=mse, max_depth=5, min_samples_leaf=2, min_samples_split=5, n_estimators=150, n_jobs=-1 \n",
      "[CV]  criterion=mse, max_depth=5, min_samples_leaf=2, min_samples_split=5, n_estimators=150, n_jobs=-1, total=   0.4s\n",
      "[CV] criterion=mse, max_depth=5, min_samples_leaf=2, min_samples_split=5, n_estimators=150, n_jobs=-1 \n",
      "[CV]  criterion=mse, max_depth=5, min_samples_leaf=2, min_samples_split=5, n_estimators=150, n_jobs=-1, total=   0.4s\n",
      "[CV] criterion=mse, max_depth=5, min_samples_leaf=2, min_samples_split=5, n_estimators=200, n_jobs=-1 \n",
      "[CV]  criterion=mse, max_depth=5, min_samples_leaf=2, min_samples_split=5, n_estimators=200, n_jobs=-1, total=   0.4s\n",
      "[CV] criterion=mse, max_depth=5, min_samples_leaf=2, min_samples_split=5, n_estimators=200, n_jobs=-1 \n",
      "[CV]  criterion=mse, max_depth=5, min_samples_leaf=2, min_samples_split=5, n_estimators=200, n_jobs=-1, total=   0.4s\n",
      "[CV] criterion=mse, max_depth=5, min_samples_leaf=2, min_samples_split=5, n_estimators=200, n_jobs=-1 \n",
      "[CV]  criterion=mse, max_depth=5, min_samples_leaf=2, min_samples_split=5, n_estimators=200, n_jobs=-1, total=   0.4s\n",
      "[CV] criterion=mse, max_depth=5, min_samples_leaf=3, min_samples_split=4, n_estimators=100, n_jobs=-1 \n",
      "[CV]  criterion=mse, max_depth=5, min_samples_leaf=3, min_samples_split=4, n_estimators=100, n_jobs=-1, total=   0.3s\n",
      "[CV] criterion=mse, max_depth=5, min_samples_leaf=3, min_samples_split=4, n_estimators=100, n_jobs=-1 \n",
      "[CV]  criterion=mse, max_depth=5, min_samples_leaf=3, min_samples_split=4, n_estimators=100, n_jobs=-1, total=   0.3s\n",
      "[CV] criterion=mse, max_depth=5, min_samples_leaf=3, min_samples_split=4, n_estimators=100, n_jobs=-1 \n",
      "[CV]  criterion=mse, max_depth=5, min_samples_leaf=3, min_samples_split=4, n_estimators=100, n_jobs=-1, total=   0.3s\n",
      "[CV] criterion=mse, max_depth=5, min_samples_leaf=3, min_samples_split=4, n_estimators=150, n_jobs=-1 \n",
      "[CV]  criterion=mse, max_depth=5, min_samples_leaf=3, min_samples_split=4, n_estimators=150, n_jobs=-1, total=   0.4s\n",
      "[CV] criterion=mse, max_depth=5, min_samples_leaf=3, min_samples_split=4, n_estimators=150, n_jobs=-1 \n",
      "[CV]  criterion=mse, max_depth=5, min_samples_leaf=3, min_samples_split=4, n_estimators=150, n_jobs=-1, total=   0.3s\n",
      "[CV] criterion=mse, max_depth=5, min_samples_leaf=3, min_samples_split=4, n_estimators=150, n_jobs=-1 \n",
      "[CV]  criterion=mse, max_depth=5, min_samples_leaf=3, min_samples_split=4, n_estimators=150, n_jobs=-1, total=   0.3s\n",
      "[CV] criterion=mse, max_depth=5, min_samples_leaf=3, min_samples_split=4, n_estimators=200, n_jobs=-1 \n",
      "[CV]  criterion=mse, max_depth=5, min_samples_leaf=3, min_samples_split=4, n_estimators=200, n_jobs=-1, total=   0.4s\n",
      "[CV] criterion=mse, max_depth=5, min_samples_leaf=3, min_samples_split=4, n_estimators=200, n_jobs=-1 \n",
      "[CV]  criterion=mse, max_depth=5, min_samples_leaf=3, min_samples_split=4, n_estimators=200, n_jobs=-1, total=   0.4s\n",
      "[CV] criterion=mse, max_depth=5, min_samples_leaf=3, min_samples_split=4, n_estimators=200, n_jobs=-1 \n",
      "[CV]  criterion=mse, max_depth=5, min_samples_leaf=3, min_samples_split=4, n_estimators=200, n_jobs=-1, total=   0.3s\n",
      "[CV] criterion=mse, max_depth=5, min_samples_leaf=3, min_samples_split=5, n_estimators=100, n_jobs=-1 \n",
      "[CV]  criterion=mse, max_depth=5, min_samples_leaf=3, min_samples_split=5, n_estimators=100, n_jobs=-1, total=   0.2s\n",
      "[CV] criterion=mse, max_depth=5, min_samples_leaf=3, min_samples_split=5, n_estimators=100, n_jobs=-1 \n",
      "[CV]  criterion=mse, max_depth=5, min_samples_leaf=3, min_samples_split=5, n_estimators=100, n_jobs=-1, total=   0.2s\n",
      "[CV] criterion=mse, max_depth=5, min_samples_leaf=3, min_samples_split=5, n_estimators=100, n_jobs=-1 \n",
      "[CV]  criterion=mse, max_depth=5, min_samples_leaf=3, min_samples_split=5, n_estimators=100, n_jobs=-1, total=   0.3s\n",
      "[CV] criterion=mse, max_depth=5, min_samples_leaf=3, min_samples_split=5, n_estimators=150, n_jobs=-1 \n",
      "[CV]  criterion=mse, max_depth=5, min_samples_leaf=3, min_samples_split=5, n_estimators=150, n_jobs=-1, total=   0.3s\n",
      "[CV] criterion=mse, max_depth=5, min_samples_leaf=3, min_samples_split=5, n_estimators=150, n_jobs=-1 \n",
      "[CV]  criterion=mse, max_depth=5, min_samples_leaf=3, min_samples_split=5, n_estimators=150, n_jobs=-1, total=   0.3s\n",
      "[CV] criterion=mse, max_depth=5, min_samples_leaf=3, min_samples_split=5, n_estimators=150, n_jobs=-1 \n",
      "[CV]  criterion=mse, max_depth=5, min_samples_leaf=3, min_samples_split=5, n_estimators=150, n_jobs=-1, total=   0.3s\n",
      "[CV] criterion=mse, max_depth=5, min_samples_leaf=3, min_samples_split=5, n_estimators=200, n_jobs=-1 \n",
      "[CV]  criterion=mse, max_depth=5, min_samples_leaf=3, min_samples_split=5, n_estimators=200, n_jobs=-1, total=   0.3s\n",
      "[CV] criterion=mse, max_depth=5, min_samples_leaf=3, min_samples_split=5, n_estimators=200, n_jobs=-1 \n",
      "[CV]  criterion=mse, max_depth=5, min_samples_leaf=3, min_samples_split=5, n_estimators=200, n_jobs=-1, total=   0.3s\n",
      "[CV] criterion=mse, max_depth=5, min_samples_leaf=3, min_samples_split=5, n_estimators=200, n_jobs=-1 \n",
      "[CV]  criterion=mse, max_depth=5, min_samples_leaf=3, min_samples_split=5, n_estimators=200, n_jobs=-1, total=   0.4s\n"
     ]
    },
    {
     "name": "stderr",
     "output_type": "stream",
     "text": [
      "[Parallel(n_jobs=1)]: Done 108 out of 108 | elapsed:   35.0s finished\n"
     ]
    },
    {
     "data": {
      "text/plain": [
       "GridSearchCV(cv=3, error_score='raise-deprecating',\n",
       "             estimator=RandomForestRegressor(bootstrap=True, criterion='mse',\n",
       "                                             max_depth=None,\n",
       "                                             max_features='auto',\n",
       "                                             max_leaf_nodes=None,\n",
       "                                             min_impurity_decrease=0.0,\n",
       "                                             min_impurity_split=None,\n",
       "                                             min_samples_leaf=1,\n",
       "                                             min_samples_split=2,\n",
       "                                             min_weight_fraction_leaf=0.0,\n",
       "                                             n_estimators=6, n_jobs=None,\n",
       "                                             oob_score=False, random_state=None,\n",
       "                                             verbose=0, warm_start=False),\n",
       "             iid='warn', n_jobs=None,\n",
       "             param_grid={'criterion': ['mse'], 'max_depth': [4, 5],\n",
       "                         'min_samples_leaf': [1, 2, 3],\n",
       "                         'min_samples_split': [4, 5],\n",
       "                         'n_estimators': [100, 150, 200], 'n_jobs': [-1]},\n",
       "             pre_dispatch='2*n_jobs', refit=True, return_train_score=False,\n",
       "             scoring=None, verbose=2)"
      ]
     },
     "execution_count": 40,
     "metadata": {},
     "output_type": "execute_result"
    }
   ],
   "source": [
    "grid.fit(x_train, y_train)"
   ]
  },
  {
   "cell_type": "code",
   "execution_count": 41,
   "metadata": {},
   "outputs": [],
   "source": [
    "y_pred = grid.predict(x_test)"
   ]
  },
  {
   "cell_type": "code",
   "execution_count": 44,
   "metadata": {},
   "outputs": [
    {
     "name": "stdout",
     "output_type": "stream",
     "text": [
      "75.95498717096373\n"
     ]
    }
   ],
   "source": [
    "result = mean_squared_error(y_test, y_pred)\n",
    "print(result)"
   ]
  },
  {
   "cell_type": "code",
   "execution_count": 46,
   "metadata": {},
   "outputs": [
    {
     "data": {
      "text/plain": [
       "{'criterion': 'mse',\n",
       " 'max_depth': 5,\n",
       " 'min_samples_leaf': 1,\n",
       " 'min_samples_split': 4,\n",
       " 'n_estimators': 100,\n",
       " 'n_jobs': -1}"
      ]
     },
     "execution_count": 46,
     "metadata": {},
     "output_type": "execute_result"
    }
   ],
   "source": [
    "grid.best_params_"
   ]
  }
 ],
 "metadata": {
  "kernelspec": {
   "display_name": "Python 3",
   "language": "python",
   "name": "python3"
  },
  "language_info": {
   "codemirror_mode": {
    "name": "ipython",
    "version": 3
   },
   "file_extension": ".py",
   "mimetype": "text/x-python",
   "name": "python",
   "nbconvert_exporter": "python",
   "pygments_lexer": "ipython3",
   "version": "3.7.1"
  }
 },
 "nbformat": 4,
 "nbformat_minor": 2
}
