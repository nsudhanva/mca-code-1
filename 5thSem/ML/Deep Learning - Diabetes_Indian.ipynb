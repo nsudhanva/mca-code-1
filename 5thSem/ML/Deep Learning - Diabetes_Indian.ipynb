{
 "cells": [
  {
   "cell_type": "markdown",
   "metadata": {},
   "source": [
    "# Deep Learning using Tensorflow and Keras"
   ]
  },
  {
   "cell_type": "code",
   "execution_count": 7,
   "metadata": {},
   "outputs": [
    {
     "data": {
      "text/html": [
       "<div>\n",
       "<style scoped>\n",
       "    .dataframe tbody tr th:only-of-type {\n",
       "        vertical-align: middle;\n",
       "    }\n",
       "\n",
       "    .dataframe tbody tr th {\n",
       "        vertical-align: top;\n",
       "    }\n",
       "\n",
       "    .dataframe thead th {\n",
       "        text-align: right;\n",
       "    }\n",
       "</style>\n",
       "<table border=\"1\" class=\"dataframe\">\n",
       "  <thead>\n",
       "    <tr style=\"text-align: right;\">\n",
       "      <th></th>\n",
       "      <th>Pregnancies</th>\n",
       "      <th>Glucose</th>\n",
       "      <th>BloodPressure</th>\n",
       "      <th>SkinThickness</th>\n",
       "      <th>Insulin</th>\n",
       "      <th>BMI</th>\n",
       "      <th>DiabetesPedigreeFunction</th>\n",
       "      <th>Age</th>\n",
       "      <th>Outcome</th>\n",
       "    </tr>\n",
       "  </thead>\n",
       "  <tbody>\n",
       "    <tr>\n",
       "      <td>0</td>\n",
       "      <td>6</td>\n",
       "      <td>148</td>\n",
       "      <td>72</td>\n",
       "      <td>35</td>\n",
       "      <td>0</td>\n",
       "      <td>33.6</td>\n",
       "      <td>0.627</td>\n",
       "      <td>50</td>\n",
       "      <td>1</td>\n",
       "    </tr>\n",
       "    <tr>\n",
       "      <td>1</td>\n",
       "      <td>1</td>\n",
       "      <td>85</td>\n",
       "      <td>66</td>\n",
       "      <td>29</td>\n",
       "      <td>0</td>\n",
       "      <td>26.6</td>\n",
       "      <td>0.351</td>\n",
       "      <td>31</td>\n",
       "      <td>0</td>\n",
       "    </tr>\n",
       "    <tr>\n",
       "      <td>2</td>\n",
       "      <td>8</td>\n",
       "      <td>183</td>\n",
       "      <td>64</td>\n",
       "      <td>0</td>\n",
       "      <td>0</td>\n",
       "      <td>23.3</td>\n",
       "      <td>0.672</td>\n",
       "      <td>32</td>\n",
       "      <td>1</td>\n",
       "    </tr>\n",
       "    <tr>\n",
       "      <td>3</td>\n",
       "      <td>1</td>\n",
       "      <td>89</td>\n",
       "      <td>66</td>\n",
       "      <td>23</td>\n",
       "      <td>94</td>\n",
       "      <td>28.1</td>\n",
       "      <td>0.167</td>\n",
       "      <td>21</td>\n",
       "      <td>0</td>\n",
       "    </tr>\n",
       "    <tr>\n",
       "      <td>4</td>\n",
       "      <td>0</td>\n",
       "      <td>137</td>\n",
       "      <td>40</td>\n",
       "      <td>35</td>\n",
       "      <td>168</td>\n",
       "      <td>43.1</td>\n",
       "      <td>2.288</td>\n",
       "      <td>33</td>\n",
       "      <td>1</td>\n",
       "    </tr>\n",
       "  </tbody>\n",
       "</table>\n",
       "</div>"
      ],
      "text/plain": [
       "   Pregnancies  Glucose  BloodPressure  SkinThickness  Insulin   BMI  \\\n",
       "0            6      148             72             35        0  33.6   \n",
       "1            1       85             66             29        0  26.6   \n",
       "2            8      183             64              0        0  23.3   \n",
       "3            1       89             66             23       94  28.1   \n",
       "4            0      137             40             35      168  43.1   \n",
       "\n",
       "   DiabetesPedigreeFunction  Age  Outcome  \n",
       "0                     0.627   50        1  \n",
       "1                     0.351   31        0  \n",
       "2                     0.672   32        1  \n",
       "3                     0.167   21        0  \n",
       "4                     2.288   33        1  "
      ]
     },
     "execution_count": 7,
     "metadata": {},
     "output_type": "execute_result"
    }
   ],
   "source": [
    "import numpy as np\n",
    "import pandas as pd\n",
    "df = pd.read_csv('D:/Study/MCA/5thSem/ML/diabetes_indian.csv')\n",
    "df.head()"
   ]
  },
  {
   "cell_type": "code",
   "execution_count": 9,
   "metadata": {},
   "outputs": [
    {
     "name": "stdout",
     "output_type": "stream",
     "text": [
      "(768, 8)\n",
      "(768,)\n"
     ]
    }
   ],
   "source": [
    "x = df.iloc[:,0:8]\n",
    "y = df.iloc[:,8]\n",
    "print(x.shape)\n",
    "print(y.shape)"
   ]
  },
  {
   "cell_type": "code",
   "execution_count": 10,
   "metadata": {},
   "outputs": [],
   "source": [
    "from sklearn.model_selection import train_test_split\n",
    "x_train, x_test, y_train, y_test = train_test_split(x, y, test_size = 0.2, random_state = 30)"
   ]
  },
  {
   "cell_type": "markdown",
   "metadata": {},
   "source": [
    "# Importing keras library"
   ]
  },
  {
   "cell_type": "code",
   "execution_count": 12,
   "metadata": {},
   "outputs": [],
   "source": [
    "from keras.models import Sequential\n",
    "from keras.layers import Dense"
   ]
  },
  {
   "cell_type": "code",
   "execution_count": 13,
   "metadata": {},
   "outputs": [
    {
     "name": "stdout",
     "output_type": "stream",
     "text": [
      "WARNING:tensorflow:From C:\\Anaconda\\lib\\site-packages\\tensorflow\\python\\framework\\op_def_library.py:263: colocate_with (from tensorflow.python.framework.ops) is deprecated and will be removed in a future version.\n",
      "Instructions for updating:\n",
      "Colocations handled automatically by placer.\n"
     ]
    }
   ],
   "source": [
    "model = Sequential()\n",
    "model.add(Dense(10, input_dim = 8, activation = \"relu\"))\n",
    "model.add(Dense(20, activation = \"relu\"))\n",
    "model.add(Dense(1, activation = \"sigmoid\"))"
   ]
  },
  {
   "cell_type": "code",
   "execution_count": 15,
   "metadata": {},
   "outputs": [],
   "source": [
    "model.compile(optimizer = \"adam\", metrics = ['accuracy'], loss = \"binary_crossentropy\")"
   ]
  },
  {
   "cell_type": "code",
   "execution_count": 16,
   "metadata": {},
   "outputs": [
    {
     "name": "stdout",
     "output_type": "stream",
     "text": [
      "WARNING:tensorflow:From C:\\Anaconda\\lib\\site-packages\\tensorflow\\python\\ops\\math_ops.py:3066: to_int32 (from tensorflow.python.ops.math_ops) is deprecated and will be removed in a future version.\n",
      "Instructions for updating:\n",
      "Use tf.cast instead.\n",
      "Epoch 1/1\n",
      "614/614 [==============================] - 3s 4ms/step - loss: 2.2911 - acc: 0.6221\n"
     ]
    },
    {
     "data": {
      "text/plain": [
       "<keras.callbacks.History at 0x249ff0d0d68>"
      ]
     },
     "execution_count": 16,
     "metadata": {},
     "output_type": "execute_result"
    }
   ],
   "source": [
    "model.fit(x_train, y_train)"
   ]
  },
  {
   "cell_type": "code",
   "execution_count": 17,
   "metadata": {},
   "outputs": [
    {
     "data": {
      "text/plain": [
       "array([[2.95912325e-01],\n",
       "       [2.56299973e-06],\n",
       "       [3.50393116e-01],\n",
       "       [8.30077827e-02],\n",
       "       [6.15023434e-01],\n",
       "       [2.36544758e-01],\n",
       "       [4.15222228e-01],\n",
       "       [3.53208274e-01],\n",
       "       [1.19209290e-07],\n",
       "       [2.40911961e-01],\n",
       "       [5.23400605e-02],\n",
       "       [3.89750600e-01],\n",
       "       [6.85083151e-01],\n",
       "       [5.66244125e-07],\n",
       "       [2.58176863e-01],\n",
       "       [1.24385804e-01],\n",
       "       [1.23083591e-04],\n",
       "       [8.52515996e-01],\n",
       "       [6.34789467e-06],\n",
       "       [8.49138498e-01],\n",
       "       [8.14115524e-01],\n",
       "       [9.64667559e-01],\n",
       "       [5.27136505e-01],\n",
       "       [3.86467814e-01],\n",
       "       [5.66616416e-01],\n",
       "       [9.16214824e-01],\n",
       "       [7.64361024e-03],\n",
       "       [3.97719145e-02],\n",
       "       [6.72674179e-03],\n",
       "       [1.28161371e-01],\n",
       "       [4.78476286e-03],\n",
       "       [5.41285396e-01],\n",
       "       [2.98023224e-08],\n",
       "       [8.75122011e-01],\n",
       "       [6.92420900e-02],\n",
       "       [0.00000000e+00],\n",
       "       [2.33382791e-01],\n",
       "       [4.25280899e-01],\n",
       "       [8.00970435e-01],\n",
       "       [1.39059037e-01],\n",
       "       [5.48048317e-02],\n",
       "       [6.38756454e-02],\n",
       "       [7.73570538e-02],\n",
       "       [3.67057323e-03],\n",
       "       [2.79709876e-01],\n",
       "       [9.04831767e-01],\n",
       "       [9.53376651e-01],\n",
       "       [9.99598026e-01],\n",
       "       [8.67792964e-02],\n",
       "       [1.26748383e-02],\n",
       "       [2.49146819e-02],\n",
       "       [4.65892851e-02],\n",
       "       [3.00222129e-01],\n",
       "       [1.45259142e-01],\n",
       "       [3.87468189e-01],\n",
       "       [9.98419642e-01],\n",
       "       [9.61499810e-01],\n",
       "       [7.77672172e-01],\n",
       "       [9.69071090e-01],\n",
       "       [2.43849993e-01],\n",
       "       [2.07142115e-01],\n",
       "       [7.55330741e-01],\n",
       "       [3.04877758e-05],\n",
       "       [4.08351570e-01],\n",
       "       [3.48520100e-01],\n",
       "       [8.00657094e-01],\n",
       "       [0.00000000e+00],\n",
       "       [0.00000000e+00],\n",
       "       [2.64438093e-02],\n",
       "       [2.73375809e-02],\n",
       "       [2.62008339e-01],\n",
       "       [1.37763232e-01],\n",
       "       [1.00153685e-03],\n",
       "       [7.48099446e-01],\n",
       "       [3.76543581e-01],\n",
       "       [8.82254839e-01],\n",
       "       [1.99874818e-01],\n",
       "       [9.89697456e-01],\n",
       "       [0.00000000e+00],\n",
       "       [9.54902709e-01],\n",
       "       [2.19044089e-03],\n",
       "       [0.00000000e+00],\n",
       "       [2.08616257e-07],\n",
       "       [9.12993908e-01],\n",
       "       [3.85696083e-01],\n",
       "       [5.76164901e-01],\n",
       "       [3.16870213e-03],\n",
       "       [3.80819142e-01],\n",
       "       [1.84459656e-01],\n",
       "       [1.93474352e-01],\n",
       "       [9.98751402e-01],\n",
       "       [7.74272919e-01],\n",
       "       [0.00000000e+00],\n",
       "       [5.02135873e-01],\n",
       "       [7.15255737e-07],\n",
       "       [2.16349244e-01],\n",
       "       [7.78870583e-01],\n",
       "       [0.00000000e+00],\n",
       "       [5.06639481e-07],\n",
       "       [3.05748075e-01],\n",
       "       [0.00000000e+00],\n",
       "       [7.95941472e-01],\n",
       "       [9.82027769e-01],\n",
       "       [8.51207018e-01],\n",
       "       [1.83551908e-02],\n",
       "       [4.90248203e-05],\n",
       "       [7.18706727e-01],\n",
       "       [7.75486231e-04],\n",
       "       [5.18419445e-01],\n",
       "       [3.93445730e-01],\n",
       "       [9.45756912e-01],\n",
       "       [7.76858866e-01],\n",
       "       [1.93028748e-02],\n",
       "       [0.00000000e+00],\n",
       "       [3.26104105e-01],\n",
       "       [7.87032425e-01],\n",
       "       [8.11954379e-01],\n",
       "       [4.23287302e-01],\n",
       "       [8.78389180e-02],\n",
       "       [6.58631325e-06],\n",
       "       [9.98407722e-01],\n",
       "       [2.21729279e-05],\n",
       "       [5.79915464e-01],\n",
       "       [7.35362530e-01],\n",
       "       [1.83756441e-01],\n",
       "       [3.86247039e-03],\n",
       "       [4.47960198e-02],\n",
       "       [3.89870107e-02],\n",
       "       [4.41045344e-01],\n",
       "       [9.90434289e-01],\n",
       "       [2.70621717e-01],\n",
       "       [9.98466372e-01],\n",
       "       [5.00544906e-03],\n",
       "       [1.11660779e-01],\n",
       "       [8.89205933e-03],\n",
       "       [3.30709815e-02],\n",
       "       [9.98637021e-01],\n",
       "       [4.56550121e-02],\n",
       "       [9.78604674e-01],\n",
       "       [1.03314966e-01],\n",
       "       [2.27089256e-01],\n",
       "       [2.49161243e-01],\n",
       "       [8.22364092e-01],\n",
       "       [2.51326501e-01],\n",
       "       [9.95621800e-01],\n",
       "       [3.13282847e-01],\n",
       "       [4.29985225e-02],\n",
       "       [5.07680416e-01],\n",
       "       [6.27107382e-01],\n",
       "       [1.74115300e-01],\n",
       "       [0.00000000e+00],\n",
       "       [9.99298215e-01],\n",
       "       [1.80306410e-18],\n",
       "       [5.41282876e-04]], dtype=float32)"
      ]
     },
     "execution_count": 17,
     "metadata": {},
     "output_type": "execute_result"
    }
   ],
   "source": [
    "pred = model.predict(x_test)\n",
    "pred"
   ]
  },
  {
   "cell_type": "code",
   "execution_count": 20,
   "metadata": {},
   "outputs": [
    {
     "ename": "ValueError",
     "evalue": "Classification metrics can't handle a mix of binary and continuous targets",
     "output_type": "error",
     "traceback": [
      "\u001b[1;31m---------------------------------------------------------------------------\u001b[0m",
      "\u001b[1;31mValueError\u001b[0m                                Traceback (most recent call last)",
      "\u001b[1;32m<ipython-input-20-a7736df0fc2c>\u001b[0m in \u001b[0;36m<module>\u001b[1;34m\u001b[0m\n\u001b[0;32m      1\u001b[0m \u001b[1;32mfrom\u001b[0m \u001b[0msklearn\u001b[0m\u001b[1;33m.\u001b[0m\u001b[0mmetrics\u001b[0m \u001b[1;32mimport\u001b[0m \u001b[0maccuracy_score\u001b[0m\u001b[1;33m\u001b[0m\u001b[1;33m\u001b[0m\u001b[0m\n\u001b[1;32m----> 2\u001b[1;33m \u001b[0macc\u001b[0m \u001b[1;33m=\u001b[0m \u001b[0maccuracy_score\u001b[0m\u001b[1;33m(\u001b[0m\u001b[0my_test\u001b[0m\u001b[1;33m,\u001b[0m \u001b[0mpred\u001b[0m\u001b[1;33m)\u001b[0m\u001b[1;33m\u001b[0m\u001b[1;33m\u001b[0m\u001b[0m\n\u001b[0m",
      "\u001b[1;32m~\\AppData\\Roaming\\Python\\Python37\\site-packages\\sklearn\\metrics\\classification.py\u001b[0m in \u001b[0;36maccuracy_score\u001b[1;34m(y_true, y_pred, normalize, sample_weight)\u001b[0m\n\u001b[0;32m    174\u001b[0m \u001b[1;33m\u001b[0m\u001b[0m\n\u001b[0;32m    175\u001b[0m     \u001b[1;31m# Compute accuracy for each possible representation\u001b[0m\u001b[1;33m\u001b[0m\u001b[1;33m\u001b[0m\u001b[1;33m\u001b[0m\u001b[0m\n\u001b[1;32m--> 176\u001b[1;33m     \u001b[0my_type\u001b[0m\u001b[1;33m,\u001b[0m \u001b[0my_true\u001b[0m\u001b[1;33m,\u001b[0m \u001b[0my_pred\u001b[0m \u001b[1;33m=\u001b[0m \u001b[0m_check_targets\u001b[0m\u001b[1;33m(\u001b[0m\u001b[0my_true\u001b[0m\u001b[1;33m,\u001b[0m \u001b[0my_pred\u001b[0m\u001b[1;33m)\u001b[0m\u001b[1;33m\u001b[0m\u001b[1;33m\u001b[0m\u001b[0m\n\u001b[0m\u001b[0;32m    177\u001b[0m     \u001b[0mcheck_consistent_length\u001b[0m\u001b[1;33m(\u001b[0m\u001b[0my_true\u001b[0m\u001b[1;33m,\u001b[0m \u001b[0my_pred\u001b[0m\u001b[1;33m,\u001b[0m \u001b[0msample_weight\u001b[0m\u001b[1;33m)\u001b[0m\u001b[1;33m\u001b[0m\u001b[1;33m\u001b[0m\u001b[0m\n\u001b[0;32m    178\u001b[0m     \u001b[1;32mif\u001b[0m \u001b[0my_type\u001b[0m\u001b[1;33m.\u001b[0m\u001b[0mstartswith\u001b[0m\u001b[1;33m(\u001b[0m\u001b[1;34m'multilabel'\u001b[0m\u001b[1;33m)\u001b[0m\u001b[1;33m:\u001b[0m\u001b[1;33m\u001b[0m\u001b[1;33m\u001b[0m\u001b[0m\n",
      "\u001b[1;32m~\\AppData\\Roaming\\Python\\Python37\\site-packages\\sklearn\\metrics\\classification.py\u001b[0m in \u001b[0;36m_check_targets\u001b[1;34m(y_true, y_pred)\u001b[0m\n\u001b[0;32m     79\u001b[0m     \u001b[1;32mif\u001b[0m \u001b[0mlen\u001b[0m\u001b[1;33m(\u001b[0m\u001b[0my_type\u001b[0m\u001b[1;33m)\u001b[0m \u001b[1;33m>\u001b[0m \u001b[1;36m1\u001b[0m\u001b[1;33m:\u001b[0m\u001b[1;33m\u001b[0m\u001b[1;33m\u001b[0m\u001b[0m\n\u001b[0;32m     80\u001b[0m         raise ValueError(\"Classification metrics can't handle a mix of {0} \"\n\u001b[1;32m---> 81\u001b[1;33m                          \"and {1} targets\".format(type_true, type_pred))\n\u001b[0m\u001b[0;32m     82\u001b[0m \u001b[1;33m\u001b[0m\u001b[0m\n\u001b[0;32m     83\u001b[0m     \u001b[1;31m# We can't have more than one value on y_type => The set is no more needed\u001b[0m\u001b[1;33m\u001b[0m\u001b[1;33m\u001b[0m\u001b[1;33m\u001b[0m\u001b[0m\n",
      "\u001b[1;31mValueError\u001b[0m: Classification metrics can't handle a mix of binary and continuous targets"
     ]
    }
   ],
   "source": [
    "from sklearn.metrics import accuracy_score\n",
    "acc = accuracy_score(y_test, pred)"
   ]
  },
  {
   "cell_type": "code",
   "execution_count": null,
   "metadata": {},
   "outputs": [],
   "source": [
    "Compile(loss, )"
   ]
  }
 ],
 "metadata": {
  "kernelspec": {
   "display_name": "Python 3",
   "language": "python",
   "name": "python3"
  },
  "language_info": {
   "codemirror_mode": {
    "name": "ipython",
    "version": 3
   },
   "file_extension": ".py",
   "mimetype": "text/x-python",
   "name": "python",
   "nbconvert_exporter": "python",
   "pygments_lexer": "ipython3",
   "version": "3.7.1"
  }
 },
 "nbformat": 4,
 "nbformat_minor": 2
}
