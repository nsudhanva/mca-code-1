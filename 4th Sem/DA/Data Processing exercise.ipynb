{
 "cells": [
  {
   "cell_type": "markdown",
   "metadata": {},
   "source": [
    "# Data Processing Exercise"
   ]
  },
  {
   "cell_type": "code",
   "execution_count": 1,
   "metadata": {},
   "outputs": [],
   "source": [
    "import numpy as np\n",
    "import pandas as pd"
   ]
  },
  {
   "cell_type": "code",
   "execution_count": 2,
   "metadata": {},
   "outputs": [
    {
     "data": {
      "text/html": [
       "<div>\n",
       "<style scoped>\n",
       "    .dataframe tbody tr th:only-of-type {\n",
       "        vertical-align: middle;\n",
       "    }\n",
       "\n",
       "    .dataframe tbody tr th {\n",
       "        vertical-align: top;\n",
       "    }\n",
       "\n",
       "    .dataframe thead th {\n",
       "        text-align: right;\n",
       "    }\n",
       "</style>\n",
       "<table border=\"1\" class=\"dataframe\">\n",
       "  <thead>\n",
       "    <tr style=\"text-align: right;\">\n",
       "      <th></th>\n",
       "      <th>id</th>\n",
       "      <th>name</th>\n",
       "      <th>salary</th>\n",
       "      <th>start_date</th>\n",
       "      <th>dept</th>\n",
       "    </tr>\n",
       "  </thead>\n",
       "  <tbody>\n",
       "    <tr>\n",
       "      <th>0</th>\n",
       "      <td>1</td>\n",
       "      <td>Rick</td>\n",
       "      <td>623.30</td>\n",
       "      <td>01-01-2012</td>\n",
       "      <td>IT</td>\n",
       "    </tr>\n",
       "    <tr>\n",
       "      <th>1</th>\n",
       "      <td>2</td>\n",
       "      <td>Dan</td>\n",
       "      <td>515.20</td>\n",
       "      <td>23-09-2013</td>\n",
       "      <td>Operations</td>\n",
       "    </tr>\n",
       "    <tr>\n",
       "      <th>2</th>\n",
       "      <td>3</td>\n",
       "      <td>Michelle</td>\n",
       "      <td>NaN</td>\n",
       "      <td>15-11-2014</td>\n",
       "      <td>IT</td>\n",
       "    </tr>\n",
       "    <tr>\n",
       "      <th>3</th>\n",
       "      <td>4</td>\n",
       "      <td>Ryan</td>\n",
       "      <td>729.00</td>\n",
       "      <td>11-05-2014</td>\n",
       "      <td>HR</td>\n",
       "    </tr>\n",
       "    <tr>\n",
       "      <th>4</th>\n",
       "      <td></td>\n",
       "      <td>Gary</td>\n",
       "      <td>843.25</td>\n",
       "      <td>27-03-2015</td>\n",
       "      <td>Finance</td>\n",
       "    </tr>\n",
       "  </tbody>\n",
       "</table>\n",
       "</div>"
      ],
      "text/plain": [
       "  id      name  salary  start_date        dept\n",
       "0  1      Rick  623.30  01-01-2012          IT\n",
       "1  2       Dan  515.20  23-09-2013  Operations\n",
       "2  3  Michelle     NaN  15-11-2014          IT\n",
       "3  4      Ryan  729.00  11-05-2014          HR\n",
       "4         Gary  843.25  27-03-2015     Finance"
      ]
     },
     "execution_count": 2,
     "metadata": {},
     "output_type": "execute_result"
    }
   ],
   "source": [
    "df = pd.read_csv(\"D:/Study/MCA/4th Sem/DA/csv/emp.csv\")\n",
    "df.head()"
   ]
  },
  {
   "cell_type": "code",
   "execution_count": 3,
   "metadata": {},
   "outputs": [
    {
     "data": {
      "text/plain": [
       "0    False\n",
       "1    False\n",
       "2    False\n",
       "3    False\n",
       "4    False\n",
       "5    False\n",
       "6    False\n",
       "7    False\n",
       "Name: name, dtype: bool"
      ]
     },
     "execution_count": 3,
     "metadata": {},
     "output_type": "execute_result"
    }
   ],
   "source": [
    "# To check for missing values in column\n",
    "df['name'].isnull()"
   ]
  },
  {
   "cell_type": "code",
   "execution_count": 4,
   "metadata": {},
   "outputs": [
    {
     "data": {
      "text/plain": [
       "0    False\n",
       "1    False\n",
       "2     True\n",
       "3    False\n",
       "4    False\n",
       "5    False\n",
       "6    False\n",
       "7    False\n",
       "Name: salary, dtype: bool"
      ]
     },
     "execution_count": 4,
     "metadata": {},
     "output_type": "execute_result"
    }
   ],
   "source": [
    "df['salary'].isnull()"
   ]
  },
  {
   "cell_type": "code",
   "execution_count": 5,
   "metadata": {},
   "outputs": [
    {
     "data": {
      "text/plain": [
       "0    False\n",
       "1    False\n",
       "2    False\n",
       "3    False\n",
       "4    False\n",
       "5    False\n",
       "6    False\n",
       "7    False\n",
       "Name: id, dtype: bool"
      ]
     },
     "execution_count": 5,
     "metadata": {},
     "output_type": "execute_result"
    }
   ],
   "source": [
    "df['id'].isnull()"
   ]
  },
  {
   "cell_type": "code",
   "execution_count": 6,
   "metadata": {},
   "outputs": [
    {
     "data": {
      "text/plain": [
       "13144.05"
      ]
     },
     "execution_count": 6,
     "metadata": {},
     "output_type": "execute_result"
    }
   ],
   "source": [
    "df['salary'].sum()"
   ]
  },
  {
   "cell_type": "code",
   "execution_count": 7,
   "metadata": {},
   "outputs": [
    {
     "data": {
      "text/plain": [
       "1877.7214285714285"
      ]
     },
     "execution_count": 7,
     "metadata": {},
     "output_type": "execute_result"
    }
   ],
   "source": [
    "df['salary'].mean()"
   ]
  },
  {
   "cell_type": "code",
   "execution_count": 8,
   "metadata": {},
   "outputs": [
    {
     "data": {
      "text/plain": [
       "0     623.30\n",
       "1     515.20\n",
       "2       0.00\n",
       "3     729.00\n",
       "4     843.25\n",
       "5    8478.00\n",
       "6    1032.80\n",
       "7     922.50\n",
       "Name: salary, dtype: float64"
      ]
     },
     "execution_count": 8,
     "metadata": {},
     "output_type": "execute_result"
    }
   ],
   "source": [
    "#filling missing values\n",
    "df['salary'].fillna(0)"
   ]
  },
  {
   "cell_type": "code",
   "execution_count": 13,
   "metadata": {},
   "outputs": [],
   "source": [
    "df = pd.read_csv('D:/Study/MCA/4th Sem/DA/csv/emp.csv')"
   ]
  },
  {
   "cell_type": "code",
   "execution_count": 12,
   "metadata": {},
   "outputs": [
    {
     "data": {
      "text/plain": [
       "0     623.30\n",
       "1     515.20\n",
       "2     729.00\n",
       "3     729.00\n",
       "4     843.25\n",
       "5    8478.00\n",
       "6    1032.80\n",
       "7     922.50\n",
       "Name: salary, dtype: float64"
      ]
     },
     "execution_count": 12,
     "metadata": {},
     "output_type": "execute_result"
    }
   ],
   "source": [
    "# filling with nearby values\n",
    "# bfill - backward fill\n",
    "# ffill - forward fill\n",
    "df['salary'].fillna(method='bfill')"
   ]
  },
  {
   "cell_type": "code",
   "execution_count": 18,
   "metadata": {},
   "outputs": [
    {
     "data": {
      "text/plain": [
       "0     623.30\n",
       "1     515.20\n",
       "3     729.00\n",
       "4     843.25\n",
       "5    8478.00\n",
       "6    1032.80\n",
       "7     922.50\n",
       "Name: salary, dtype: float64"
      ]
     },
     "execution_count": 18,
     "metadata": {},
     "output_type": "execute_result"
    }
   ],
   "source": [
    "# dropping of na values\n",
    "df['salary'].dropna()"
   ]
  },
  {
   "cell_type": "code",
   "execution_count": 22,
   "metadata": {},
   "outputs": [],
   "source": [
    "df = pd.read_csv('D:/Study/MCA/4th Sem/DA/csv/emp.csv')"
   ]
  },
  {
   "cell_type": "code",
   "execution_count": 23,
   "metadata": {},
   "outputs": [
    {
     "data": {
      "text/html": [
       "<div>\n",
       "<style scoped>\n",
       "    .dataframe tbody tr th:only-of-type {\n",
       "        vertical-align: middle;\n",
       "    }\n",
       "\n",
       "    .dataframe tbody tr th {\n",
       "        vertical-align: top;\n",
       "    }\n",
       "\n",
       "    .dataframe thead th {\n",
       "        text-align: right;\n",
       "    }\n",
       "</style>\n",
       "<table border=\"1\" class=\"dataframe\">\n",
       "  <thead>\n",
       "    <tr style=\"text-align: right;\">\n",
       "      <th></th>\n",
       "      <th>id</th>\n",
       "      <th>name</th>\n",
       "      <th>salary</th>\n",
       "      <th>start_date</th>\n",
       "      <th>dept</th>\n",
       "    </tr>\n",
       "  </thead>\n",
       "  <tbody>\n",
       "    <tr>\n",
       "      <th>0</th>\n",
       "      <td>1</td>\n",
       "      <td>Rick</td>\n",
       "      <td>623.30</td>\n",
       "      <td>01-01-2012</td>\n",
       "      <td>IT</td>\n",
       "    </tr>\n",
       "    <tr>\n",
       "      <th>1</th>\n",
       "      <td>2</td>\n",
       "      <td>Dan</td>\n",
       "      <td>515.20</td>\n",
       "      <td>23-09-2013</td>\n",
       "      <td>Operations</td>\n",
       "    </tr>\n",
       "    <tr>\n",
       "      <th>2</th>\n",
       "      <td>3</td>\n",
       "      <td>Michelle</td>\n",
       "      <td>NaN</td>\n",
       "      <td>15-11-2014</td>\n",
       "      <td>IT</td>\n",
       "    </tr>\n",
       "    <tr>\n",
       "      <th>3</th>\n",
       "      <td>4</td>\n",
       "      <td>Ryan</td>\n",
       "      <td>729.00</td>\n",
       "      <td>11-05-2014</td>\n",
       "      <td>HR</td>\n",
       "    </tr>\n",
       "    <tr>\n",
       "      <th>4</th>\n",
       "      <td></td>\n",
       "      <td>Gary</td>\n",
       "      <td>843.25</td>\n",
       "      <td>27-03-2015</td>\n",
       "      <td>Finance</td>\n",
       "    </tr>\n",
       "  </tbody>\n",
       "</table>\n",
       "</div>"
      ],
      "text/plain": [
       "  id      name  salary  start_date        dept\n",
       "0  1      Rick  623.30  01-01-2012          IT\n",
       "1  2       Dan  515.20  23-09-2013  Operations\n",
       "2  3  Michelle     NaN  15-11-2014          IT\n",
       "3  4      Ryan  729.00  11-05-2014          HR\n",
       "4         Gary  843.25  27-03-2015     Finance"
      ]
     },
     "execution_count": 23,
     "metadata": {},
     "output_type": "execute_result"
    }
   ],
   "source": [
    "df.head()"
   ]
  },
  {
   "cell_type": "code",
   "execution_count": 24,
   "metadata": {},
   "outputs": [
    {
     "data": {
      "text/html": [
       "<div>\n",
       "<style scoped>\n",
       "    .dataframe tbody tr th:only-of-type {\n",
       "        vertical-align: middle;\n",
       "    }\n",
       "\n",
       "    .dataframe tbody tr th {\n",
       "        vertical-align: top;\n",
       "    }\n",
       "\n",
       "    .dataframe thead th {\n",
       "        text-align: right;\n",
       "    }\n",
       "</style>\n",
       "<table border=\"1\" class=\"dataframe\">\n",
       "  <thead>\n",
       "    <tr style=\"text-align: right;\">\n",
       "      <th></th>\n",
       "      <th>id</th>\n",
       "      <th>name</th>\n",
       "      <th>salary</th>\n",
       "      <th>start_date</th>\n",
       "      <th>dept</th>\n",
       "    </tr>\n",
       "  </thead>\n",
       "  <tbody>\n",
       "    <tr>\n",
       "      <th>0</th>\n",
       "      <td>1</td>\n",
       "      <td>Rick</td>\n",
       "      <td>623.30</td>\n",
       "      <td>01-01-2012</td>\n",
       "      <td>IT</td>\n",
       "    </tr>\n",
       "    <tr>\n",
       "      <th>1</th>\n",
       "      <td>2</td>\n",
       "      <td>Dan</td>\n",
       "      <td>515.20</td>\n",
       "      <td>23-09-2013</td>\n",
       "      <td>Operations</td>\n",
       "    </tr>\n",
       "    <tr>\n",
       "      <th>3</th>\n",
       "      <td>4</td>\n",
       "      <td>Ryan</td>\n",
       "      <td>729.00</td>\n",
       "      <td>11-05-2014</td>\n",
       "      <td>HR</td>\n",
       "    </tr>\n",
       "    <tr>\n",
       "      <th>4</th>\n",
       "      <td></td>\n",
       "      <td>Gary</td>\n",
       "      <td>843.25</td>\n",
       "      <td>27-03-2015</td>\n",
       "      <td>Finance</td>\n",
       "    </tr>\n",
       "    <tr>\n",
       "      <th>5</th>\n",
       "      <td>6</td>\n",
       "      <td>Nina</td>\n",
       "      <td>8478.00</td>\n",
       "      <td>21-05-2013</td>\n",
       "      <td>IT</td>\n",
       "    </tr>\n",
       "    <tr>\n",
       "      <th>6</th>\n",
       "      <td>7</td>\n",
       "      <td>Simon</td>\n",
       "      <td>1032.80</td>\n",
       "      <td>30-07-2013</td>\n",
       "      <td>Operations</td>\n",
       "    </tr>\n",
       "    <tr>\n",
       "      <th>7</th>\n",
       "      <td>8</td>\n",
       "      <td>Guru</td>\n",
       "      <td>922.50</td>\n",
       "      <td>17-06-2014</td>\n",
       "      <td>Finance</td>\n",
       "    </tr>\n",
       "  </tbody>\n",
       "</table>\n",
       "</div>"
      ],
      "text/plain": [
       "  id   name   salary  start_date        dept\n",
       "0  1   Rick   623.30  01-01-2012          IT\n",
       "1  2    Dan   515.20  23-09-2013  Operations\n",
       "3  4   Ryan   729.00  11-05-2014          HR\n",
       "4      Gary   843.25  27-03-2015     Finance\n",
       "5  6   Nina  8478.00  21-05-2013          IT\n",
       "6  7  Simon  1032.80  30-07-2013  Operations\n",
       "7  8   Guru   922.50  17-06-2014     Finance"
      ]
     },
     "execution_count": 24,
     "metadata": {},
     "output_type": "execute_result"
    }
   ],
   "source": [
    "df.dropna()"
   ]
  },
  {
   "cell_type": "code",
   "execution_count": 25,
   "metadata": {},
   "outputs": [
    {
     "data": {
      "text/plain": [
       "0    False\n",
       "1    False\n",
       "2    False\n",
       "3    False\n",
       "4    False\n",
       "5    False\n",
       "6    False\n",
       "7    False\n",
       "Name: id, dtype: bool"
      ]
     },
     "execution_count": 25,
     "metadata": {},
     "output_type": "execute_result"
    }
   ],
   "source": [
    "df['id'].isnull()"
   ]
  },
  {
   "cell_type": "code",
   "execution_count": 34,
   "metadata": {},
   "outputs": [
    {
     "data": {
      "text/plain": [
       "0        Mike\n",
       "1         Dan\n",
       "2    Michelle\n",
       "3        Ryan\n",
       "4        Gary\n",
       "5        Nina\n",
       "6       Simon\n",
       "7        Guru\n",
       "Name: name, dtype: object"
      ]
     },
     "execution_count": 34,
     "metadata": {},
     "output_type": "execute_result"
    }
   ],
   "source": [
    "# replace a value\n",
    "# find string followed by replace string\n",
    "df['name'].replace({\"Rick\" : \"Mike\"})"
   ]
  },
  {
   "cell_type": "code",
   "execution_count": 35,
   "metadata": {},
   "outputs": [
    {
     "data": {
      "text/plain": [
       "0    0.0\n",
       "1    2.0\n",
       "2    3.0\n",
       "3    4.0\n",
       "4    NaN\n",
       "5    0.0\n",
       "6    7.0\n",
       "7    8.0\n",
       "Name: id, dtype: float64"
      ]
     },
     "execution_count": 35,
     "metadata": {},
     "output_type": "execute_result"
    }
   ],
   "source": [
    "df['id'].replace({1:0, 6:0})"
   ]
  },
  {
   "cell_type": "code",
   "execution_count": 29,
   "metadata": {},
   "outputs": [
    {
     "data": {
      "text/html": [
       "<div>\n",
       "<style scoped>\n",
       "    .dataframe tbody tr th:only-of-type {\n",
       "        vertical-align: middle;\n",
       "    }\n",
       "\n",
       "    .dataframe tbody tr th {\n",
       "        vertical-align: top;\n",
       "    }\n",
       "\n",
       "    .dataframe thead th {\n",
       "        text-align: right;\n",
       "    }\n",
       "</style>\n",
       "<table border=\"1\" class=\"dataframe\">\n",
       "  <thead>\n",
       "    <tr style=\"text-align: right;\">\n",
       "      <th></th>\n",
       "      <th>id</th>\n",
       "      <th>name</th>\n",
       "      <th>salary</th>\n",
       "      <th>start_date</th>\n",
       "      <th>dept</th>\n",
       "    </tr>\n",
       "  </thead>\n",
       "  <tbody>\n",
       "    <tr>\n",
       "      <th>0</th>\n",
       "      <td>1.0</td>\n",
       "      <td>Rick</td>\n",
       "      <td>623.30</td>\n",
       "      <td>01-01-2012</td>\n",
       "      <td>IT</td>\n",
       "    </tr>\n",
       "    <tr>\n",
       "      <th>1</th>\n",
       "      <td>2.0</td>\n",
       "      <td>Dan</td>\n",
       "      <td>515.20</td>\n",
       "      <td>23-09-2013</td>\n",
       "      <td>Operations</td>\n",
       "    </tr>\n",
       "    <tr>\n",
       "      <th>2</th>\n",
       "      <td>3.0</td>\n",
       "      <td>Michelle</td>\n",
       "      <td>NaN</td>\n",
       "      <td>15-11-2014</td>\n",
       "      <td>IT</td>\n",
       "    </tr>\n",
       "    <tr>\n",
       "      <th>3</th>\n",
       "      <td>4.0</td>\n",
       "      <td>Ryan</td>\n",
       "      <td>729.00</td>\n",
       "      <td>11-05-2014</td>\n",
       "      <td>HR</td>\n",
       "    </tr>\n",
       "    <tr>\n",
       "      <th>4</th>\n",
       "      <td>NaN</td>\n",
       "      <td>Gary</td>\n",
       "      <td>843.25</td>\n",
       "      <td>27-03-2015</td>\n",
       "      <td>Finance</td>\n",
       "    </tr>\n",
       "  </tbody>\n",
       "</table>\n",
       "</div>"
      ],
      "text/plain": [
       "    id      name  salary  start_date        dept\n",
       "0  1.0      Rick  623.30  01-01-2012          IT\n",
       "1  2.0       Dan  515.20  23-09-2013  Operations\n",
       "2  3.0  Michelle     NaN  15-11-2014          IT\n",
       "3  4.0      Ryan  729.00  11-05-2014          HR\n",
       "4  NaN      Gary  843.25  27-03-2015     Finance"
      ]
     },
     "execution_count": 29,
     "metadata": {},
     "output_type": "execute_result"
    }
   ],
   "source": [
    "missing_values = ['n/a', '', ' ', '--']\n",
    "df = pd.read_csv('D:/Study/MCA/4th Sem/DA/csv/emp.csv', na_values = missing_values)\n",
    "df.head()"
   ]
  },
  {
   "cell_type": "code",
   "execution_count": 31,
   "metadata": {},
   "outputs": [
    {
     "data": {
      "text/plain": [
       "0    False\n",
       "1    False\n",
       "2    False\n",
       "3    False\n",
       "4     True\n",
       "5    False\n",
       "6    False\n",
       "7    False\n",
       "Name: id, dtype: bool"
      ]
     },
     "execution_count": 31,
     "metadata": {},
     "output_type": "execute_result"
    }
   ],
   "source": [
    "# now it can identify missing values as null value\n",
    "df['id'].isnull()"
   ]
  },
  {
   "cell_type": "code",
   "execution_count": 37,
   "metadata": {},
   "outputs": [
    {
     "data": {
      "text/html": [
       "<div>\n",
       "<style scoped>\n",
       "    .dataframe tbody tr th:only-of-type {\n",
       "        vertical-align: middle;\n",
       "    }\n",
       "\n",
       "    .dataframe tbody tr th {\n",
       "        vertical-align: top;\n",
       "    }\n",
       "\n",
       "    .dataframe thead th {\n",
       "        text-align: right;\n",
       "    }\n",
       "</style>\n",
       "<table border=\"1\" class=\"dataframe\">\n",
       "  <thead>\n",
       "    <tr style=\"text-align: right;\">\n",
       "      <th></th>\n",
       "      <th>id</th>\n",
       "      <th>name</th>\n",
       "      <th>salary</th>\n",
       "      <th>start_date</th>\n",
       "      <th>dept</th>\n",
       "    </tr>\n",
       "  </thead>\n",
       "  <tbody>\n",
       "    <tr>\n",
       "      <th>0</th>\n",
       "      <td>1</td>\n",
       "      <td>Rick</td>\n",
       "      <td>623.30</td>\n",
       "      <td>01-01-2012</td>\n",
       "      <td>IT</td>\n",
       "    </tr>\n",
       "    <tr>\n",
       "      <th>1</th>\n",
       "      <td>2</td>\n",
       "      <td>Dan</td>\n",
       "      <td>515.20</td>\n",
       "      <td>23-09-2013</td>\n",
       "      <td>Operations</td>\n",
       "    </tr>\n",
       "    <tr>\n",
       "      <th>2</th>\n",
       "      <td>3</td>\n",
       "      <td>Michelle</td>\n",
       "      <td>NaN</td>\n",
       "      <td>15-11-2014</td>\n",
       "      <td>IT</td>\n",
       "    </tr>\n",
       "    <tr>\n",
       "      <th>3</th>\n",
       "      <td>4</td>\n",
       "      <td>Ryan</td>\n",
       "      <td>729.00</td>\n",
       "      <td>11-05-2014</td>\n",
       "      <td>HR</td>\n",
       "    </tr>\n",
       "    <tr>\n",
       "      <th>4</th>\n",
       "      <td></td>\n",
       "      <td>Gary</td>\n",
       "      <td>843.25</td>\n",
       "      <td>27-03-2015</td>\n",
       "      <td>Finance</td>\n",
       "    </tr>\n",
       "  </tbody>\n",
       "</table>\n",
       "</div>"
      ],
      "text/plain": [
       "  id      name  salary  start_date        dept\n",
       "0  1      Rick  623.30  01-01-2012          IT\n",
       "1  2       Dan  515.20  23-09-2013  Operations\n",
       "2  3  Michelle     NaN  15-11-2014          IT\n",
       "3  4      Ryan  729.00  11-05-2014          HR\n",
       "4         Gary  843.25  27-03-2015     Finance"
      ]
     },
     "execution_count": 37,
     "metadata": {},
     "output_type": "execute_result"
    }
   ],
   "source": [
    "# Dropping od single column\n",
    "df = pd.read_csv('D:/Study/MCA/4th Sem/DA/csv/emp.csv')\n",
    "df.head()"
   ]
  },
  {
   "cell_type": "code",
   "execution_count": 38,
   "metadata": {},
   "outputs": [
    {
     "data": {
      "text/html": [
       "<div>\n",
       "<style scoped>\n",
       "    .dataframe tbody tr th:only-of-type {\n",
       "        vertical-align: middle;\n",
       "    }\n",
       "\n",
       "    .dataframe tbody tr th {\n",
       "        vertical-align: top;\n",
       "    }\n",
       "\n",
       "    .dataframe thead th {\n",
       "        text-align: right;\n",
       "    }\n",
       "</style>\n",
       "<table border=\"1\" class=\"dataframe\">\n",
       "  <thead>\n",
       "    <tr style=\"text-align: right;\">\n",
       "      <th></th>\n",
       "      <th>name</th>\n",
       "      <th>salary</th>\n",
       "      <th>start_date</th>\n",
       "      <th>dept</th>\n",
       "    </tr>\n",
       "  </thead>\n",
       "  <tbody>\n",
       "    <tr>\n",
       "      <th>0</th>\n",
       "      <td>Rick</td>\n",
       "      <td>623.30</td>\n",
       "      <td>01-01-2012</td>\n",
       "      <td>IT</td>\n",
       "    </tr>\n",
       "    <tr>\n",
       "      <th>1</th>\n",
       "      <td>Dan</td>\n",
       "      <td>515.20</td>\n",
       "      <td>23-09-2013</td>\n",
       "      <td>Operations</td>\n",
       "    </tr>\n",
       "    <tr>\n",
       "      <th>2</th>\n",
       "      <td>Michelle</td>\n",
       "      <td>NaN</td>\n",
       "      <td>15-11-2014</td>\n",
       "      <td>IT</td>\n",
       "    </tr>\n",
       "    <tr>\n",
       "      <th>3</th>\n",
       "      <td>Ryan</td>\n",
       "      <td>729.00</td>\n",
       "      <td>11-05-2014</td>\n",
       "      <td>HR</td>\n",
       "    </tr>\n",
       "    <tr>\n",
       "      <th>4</th>\n",
       "      <td>Gary</td>\n",
       "      <td>843.25</td>\n",
       "      <td>27-03-2015</td>\n",
       "      <td>Finance</td>\n",
       "    </tr>\n",
       "    <tr>\n",
       "      <th>5</th>\n",
       "      <td>Nina</td>\n",
       "      <td>8478.00</td>\n",
       "      <td>21-05-2013</td>\n",
       "      <td>IT</td>\n",
       "    </tr>\n",
       "    <tr>\n",
       "      <th>6</th>\n",
       "      <td>Simon</td>\n",
       "      <td>1032.80</td>\n",
       "      <td>30-07-2013</td>\n",
       "      <td>Operations</td>\n",
       "    </tr>\n",
       "    <tr>\n",
       "      <th>7</th>\n",
       "      <td>Guru</td>\n",
       "      <td>922.50</td>\n",
       "      <td>17-06-2014</td>\n",
       "      <td>Finance</td>\n",
       "    </tr>\n",
       "  </tbody>\n",
       "</table>\n",
       "</div>"
      ],
      "text/plain": [
       "       name   salary  start_date        dept\n",
       "0      Rick   623.30  01-01-2012          IT\n",
       "1       Dan   515.20  23-09-2013  Operations\n",
       "2  Michelle      NaN  15-11-2014          IT\n",
       "3      Ryan   729.00  11-05-2014          HR\n",
       "4      Gary   843.25  27-03-2015     Finance\n",
       "5      Nina  8478.00  21-05-2013          IT\n",
       "6     Simon  1032.80  30-07-2013  Operations\n",
       "7      Guru   922.50  17-06-2014     Finance"
      ]
     },
     "execution_count": 38,
     "metadata": {},
     "output_type": "execute_result"
    }
   ],
   "source": [
    "# Dropping of columns\n",
    "df.drop(columns = ['id'])"
   ]
  },
  {
   "cell_type": "code",
   "execution_count": 39,
   "metadata": {},
   "outputs": [
    {
     "data": {
      "text/html": [
       "<div>\n",
       "<style scoped>\n",
       "    .dataframe tbody tr th:only-of-type {\n",
       "        vertical-align: middle;\n",
       "    }\n",
       "\n",
       "    .dataframe tbody tr th {\n",
       "        vertical-align: top;\n",
       "    }\n",
       "\n",
       "    .dataframe thead th {\n",
       "        text-align: right;\n",
       "    }\n",
       "</style>\n",
       "<table border=\"1\" class=\"dataframe\">\n",
       "  <thead>\n",
       "    <tr style=\"text-align: right;\">\n",
       "      <th></th>\n",
       "      <th>id</th>\n",
       "      <th>name</th>\n",
       "      <th>salary</th>\n",
       "      <th>start_date</th>\n",
       "      <th>dept</th>\n",
       "    </tr>\n",
       "  </thead>\n",
       "  <tbody>\n",
       "    <tr>\n",
       "      <th>2</th>\n",
       "      <td>3</td>\n",
       "      <td>Michelle</td>\n",
       "      <td>NaN</td>\n",
       "      <td>15-11-2014</td>\n",
       "      <td>IT</td>\n",
       "    </tr>\n",
       "    <tr>\n",
       "      <th>3</th>\n",
       "      <td>4</td>\n",
       "      <td>Ryan</td>\n",
       "      <td>729.00</td>\n",
       "      <td>11-05-2014</td>\n",
       "      <td>HR</td>\n",
       "    </tr>\n",
       "    <tr>\n",
       "      <th>4</th>\n",
       "      <td></td>\n",
       "      <td>Gary</td>\n",
       "      <td>843.25</td>\n",
       "      <td>27-03-2015</td>\n",
       "      <td>Finance</td>\n",
       "    </tr>\n",
       "    <tr>\n",
       "      <th>5</th>\n",
       "      <td>6</td>\n",
       "      <td>Nina</td>\n",
       "      <td>8478.00</td>\n",
       "      <td>21-05-2013</td>\n",
       "      <td>IT</td>\n",
       "    </tr>\n",
       "    <tr>\n",
       "      <th>6</th>\n",
       "      <td>7</td>\n",
       "      <td>Simon</td>\n",
       "      <td>1032.80</td>\n",
       "      <td>30-07-2013</td>\n",
       "      <td>Operations</td>\n",
       "    </tr>\n",
       "    <tr>\n",
       "      <th>7</th>\n",
       "      <td>8</td>\n",
       "      <td>Guru</td>\n",
       "      <td>922.50</td>\n",
       "      <td>17-06-2014</td>\n",
       "      <td>Finance</td>\n",
       "    </tr>\n",
       "  </tbody>\n",
       "</table>\n",
       "</div>"
      ],
      "text/plain": [
       "  id      name   salary  start_date        dept\n",
       "2  3  Michelle      NaN  15-11-2014          IT\n",
       "3  4      Ryan   729.00  11-05-2014          HR\n",
       "4         Gary   843.25  27-03-2015     Finance\n",
       "5  6      Nina  8478.00  21-05-2013          IT\n",
       "6  7     Simon  1032.80  30-07-2013  Operations\n",
       "7  8      Guru   922.50  17-06-2014     Finance"
      ]
     },
     "execution_count": 39,
     "metadata": {},
     "output_type": "execute_result"
    }
   ],
   "source": [
    "# Deleting of specific rows\n",
    "df.drop([0,1])"
   ]
  },
  {
   "cell_type": "code",
   "execution_count": 40,
   "metadata": {},
   "outputs": [
    {
     "name": "stdout",
     "output_type": "stream",
     "text": [
      "0     623.30\n",
      "1     515.20\n",
      "2        NaN\n",
      "3     729.00\n",
      "4     843.25\n",
      "5    8478.00\n",
      "6    1032.80\n",
      "7     922.50\n",
      "Name: salary, dtype: float64\n"
     ]
    }
   ],
   "source": [
    "df = pd.read_csv('D:/Study/MCA/4th Sem/DA/csv/emp.csv')\n",
    "df.head()\n",
    "x = df['salary']\n",
    "print(x)"
   ]
  },
  {
   "cell_type": "code",
   "execution_count": 42,
   "metadata": {},
   "outputs": [
    {
     "name": "stdout",
     "output_type": "stream",
     "text": [
      "0     623.30\n",
      "1     515.20\n",
      "3     729.00\n",
      "4     843.25\n",
      "5    8478.00\n",
      "6    1032.80\n",
      "7     922.50\n",
      "Name: salary, dtype: float64\n"
     ]
    }
   ],
   "source": [
    "x = x.dropna()\n",
    "print(x)"
   ]
  },
  {
   "cell_type": "code",
   "execution_count": 52,
   "metadata": {},
   "outputs": [
    {
     "name": "stdout",
     "output_type": "stream",
     "text": [
      "0    (507.237, 3169.467]\n",
      "1    (507.237, 3169.467]\n",
      "3    (507.237, 3169.467]\n",
      "4    (507.237, 3169.467]\n",
      "5     (5823.733, 8478.0]\n",
      "6    (507.237, 3169.467]\n",
      "7    (507.237, 3169.467]\n",
      "Name: salary, dtype: category\n",
      "Categories (3, interval[float64]): [(507.237, 3169.467] < (3169.467, 5823.733] < (5823.733, 8478.0]]\n",
      "0       Low\n",
      "1       Low\n",
      "3       Low\n",
      "4    Medium\n",
      "5      High\n",
      "6      High\n",
      "7    Medium\n",
      "Name: salary, dtype: category\n",
      "Categories (3, object): [Low < Medium < High]\n"
     ]
    }
   ],
   "source": [
    "degree = [\"Low\", \"Medium\", \"High\"]\n",
    "\n",
    "# Equi width binning\n",
    "categorical_object = pd.cut(x, 3)\n",
    "print(categorical_object)\n",
    "# Equi frequency binning\n",
    "categorical_object2 = pd.qcut(x, 3, labels = degree)\n",
    "print(categorical_object2)"
   ]
  },
  {
   "cell_type": "code",
   "execution_count": 47,
   "metadata": {},
   "outputs": [
    {
     "data": {
      "text/plain": [
       "(507.237, 3169.467]     6\n",
       "(5823.733, 8478.0]      1\n",
       "(3169.467, 5823.733]    0\n",
       "Name: salary, dtype: int64"
      ]
     },
     "execution_count": 47,
     "metadata": {},
     "output_type": "execute_result"
    }
   ],
   "source": [
    "pd.value_counts(categorical_object)"
   ]
  },
  {
   "cell_type": "code",
   "execution_count": 48,
   "metadata": {},
   "outputs": [
    {
     "data": {
      "text/plain": [
       "Low       3\n",
       "High      2\n",
       "Medium    2\n",
       "Name: salary, dtype: int64"
      ]
     },
     "execution_count": 48,
     "metadata": {},
     "output_type": "execute_result"
    }
   ],
   "source": [
    "# checks for equal number of values\n",
    "# can be changed from numerical to categorical\n",
    "pd.value_counts(categorical_object2)"
   ]
  }
 ],
 "metadata": {
  "kernelspec": {
   "display_name": "Python 3",
   "language": "python",
   "name": "python3"
  },
  "language_info": {
   "codemirror_mode": {
    "name": "ipython",
    "version": 3
   },
   "file_extension": ".py",
   "mimetype": "text/x-python",
   "name": "python",
   "nbconvert_exporter": "python",
   "pygments_lexer": "ipython3",
   "version": "3.7.1"
  }
 },
 "nbformat": 4,
 "nbformat_minor": 2
}
