{
 "cells": [
  {
   "cell_type": "code",
   "execution_count": 1,
   "metadata": {},
   "outputs": [
    {
     "name": "stdout",
     "output_type": "stream",
     "text": [
      "10 Ram True\n",
      "<class 'int'>\n",
      "<class 'str'>\n",
      "<class 'bool'>\n"
     ]
    }
   ],
   "source": [
    "a = 10\n",
    "b = \"Ram\"\n",
    "c = True\n",
    "print(a,b,c)\n",
    "print(type(a))\n",
    "print(type(b))\n",
    "print(type(c))"
   ]
  },
  {
   "cell_type": "code",
   "execution_count": 12,
   "metadata": {},
   "outputs": [
    {
     "name": "stdout",
     "output_type": "stream",
     "text": [
      "February\n",
      "Kitty\n",
      "['Jessie', 20]\n",
      "7658344\n"
     ]
    }
   ],
   "source": [
    "#python objects\n",
    "# Lists, Tuples, Dictionaries\n",
    "# Tuples\n",
    "months = ('January', 'February', 'March', 'April', 'May', 'June', 'July', 'August', 'September', 'October', 'November', 'December')\n",
    "print(months[1])\n",
    "\n",
    "#Lists\n",
    "cats = ['Tom', 'Snappy', 'Kitty', 'Jessie', 'Chester']\n",
    "print(cats[2])\n",
    "cats.append('Catherine')\n",
    "del cats[1]\n",
    "\n",
    "cats_nos = [['Tom', 10], \n",
    "            ['Snappy', 15],\n",
    "            ['Jessie', 20],\n",
    "            ['Chester', 5]]\n",
    "print(cats_nos[2])\n",
    "\n",
    "#Dictionary\n",
    "phoneBook = {'Andrew Parson': 8806336, \\\n",
    "            'Emily Everett': 6784346, 'Peter Power': 7658344, \\\n",
    "            'Lewis Lame': 1122345}\n",
    "print(phoneBook['Peter Power'])"
   ]
  },
  {
   "cell_type": "code",
   "execution_count": 17,
   "metadata": {},
   "outputs": [
    {
     "name": "stdout",
     "output_type": "stream",
     "text": [
      "<class 'list'>\n"
     ]
    },
    {
     "data": {
      "text/plain": [
       "'Snappy'"
      ]
     },
     "execution_count": 17,
     "metadata": {},
     "output_type": "execute_result"
    }
   ],
   "source": [
    "# Handling lists\n",
    "cn = cats_nos\n",
    "print(type(cn))\n",
    "cn[:]\n",
    "cn[1:]\n",
    "cn[:2]\n",
    "cn[1][0]"
   ]
  },
  {
   "cell_type": "code",
   "execution_count": 20,
   "metadata": {},
   "outputs": [
    {
     "name": "stdout",
     "output_type": "stream",
     "text": [
      "['Tom' 'Kitty' 'Jessie' 'Chester' 'Catherine']\n"
     ]
    }
   ],
   "source": [
    "# Numpy\n",
    "import numpy as np\n",
    "a = np.array(cats)\n",
    "print(a)"
   ]
  },
  {
   "cell_type": "code",
   "execution_count": 22,
   "metadata": {},
   "outputs": [
    {
     "name": "stdout",
     "output_type": "stream",
     "text": [
      "[['Tom' '10']\n",
      " ['Snappy' '15']\n",
      " ['Jessie' '20']\n",
      " ['Chester' '5']]\n",
      "<class 'numpy.ndarray'>\n",
      "<class 'list'>\n",
      "(4, 2)\n",
      "2\n",
      "8\n"
     ]
    }
   ],
   "source": [
    "a1 = np.array(cn)\n",
    "print(a1)\n",
    "print(type(a1))\n",
    "print(type(cn))\n",
    "print(a1.shape)\n",
    "print(a1.ndim)\n",
    "print(a1.size)"
   ]
  },
  {
   "cell_type": "code",
   "execution_count": 36,
   "metadata": {},
   "outputs": [
    {
     "name": "stdout",
     "output_type": "stream",
     "text": [
      "['10' '15' '20' '5']\n",
      "[['10']\n",
      " ['15']\n",
      " ['20']\n",
      " ['5']]\n"
     ]
    }
   ],
   "source": [
    "k = a1[:,1]\n",
    "print(k)\n",
    "k1 = k.reshape(4,1)\n",
    "print(k1)"
   ]
  }
 ],
 "metadata": {
  "kernelspec": {
   "display_name": "Python 3",
   "language": "python",
   "name": "python3"
  },
  "language_info": {
   "codemirror_mode": {
    "name": "ipython",
    "version": 3
   },
   "file_extension": ".py",
   "mimetype": "text/x-python",
   "name": "python",
   "nbconvert_exporter": "python",
   "pygments_lexer": "ipython3",
   "version": "3.7.1"
  }
 },
 "nbformat": 4,
 "nbformat_minor": 2
}
