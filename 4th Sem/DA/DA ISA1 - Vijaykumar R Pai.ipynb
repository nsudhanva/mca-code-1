{
 "cells": [
  {
   "cell_type": "code",
   "execution_count": 2,
   "metadata": {},
   "outputs": [],
   "source": [
    "import matplotlib.pyplot as plt\n",
    "import numpy as np\n",
    "from sklearn import linear_model\n",
    "import pandas as pd\n",
    "from sklearn.metrics import mean_squared_error\n",
    "from math import sqrt"
   ]
  },
  {
   "cell_type": "code",
   "execution_count": 3,
   "metadata": {},
   "outputs": [
    {
     "data": {
      "text/html": [
       "<div>\n",
       "<style scoped>\n",
       "    .dataframe tbody tr th:only-of-type {\n",
       "        vertical-align: middle;\n",
       "    }\n",
       "\n",
       "    .dataframe tbody tr th {\n",
       "        vertical-align: top;\n",
       "    }\n",
       "\n",
       "    .dataframe thead th {\n",
       "        text-align: right;\n",
       "    }\n",
       "</style>\n",
       "<table border=\"1\" class=\"dataframe\">\n",
       "  <thead>\n",
       "    <tr style=\"text-align: right;\">\n",
       "      <th></th>\n",
       "      <th>wt</th>\n",
       "      <th>hp</th>\n",
       "    </tr>\n",
       "  </thead>\n",
       "  <tbody>\n",
       "    <tr>\n",
       "      <th>0</th>\n",
       "      <td>2.620</td>\n",
       "      <td>110</td>\n",
       "    </tr>\n",
       "    <tr>\n",
       "      <th>1</th>\n",
       "      <td>2.875</td>\n",
       "      <td>110</td>\n",
       "    </tr>\n",
       "    <tr>\n",
       "      <th>2</th>\n",
       "      <td>2.320</td>\n",
       "      <td>93</td>\n",
       "    </tr>\n",
       "    <tr>\n",
       "      <th>3</th>\n",
       "      <td>3.215</td>\n",
       "      <td>110</td>\n",
       "    </tr>\n",
       "    <tr>\n",
       "      <th>4</th>\n",
       "      <td>3.440</td>\n",
       "      <td>175</td>\n",
       "    </tr>\n",
       "  </tbody>\n",
       "</table>\n",
       "</div>"
      ],
      "text/plain": [
       "      wt   hp\n",
       "0  2.620  110\n",
       "1  2.875  110\n",
       "2  2.320   93\n",
       "3  3.215  110\n",
       "4  3.440  175"
      ]
     },
     "execution_count": 3,
     "metadata": {},
     "output_type": "execute_result"
    }
   ],
   "source": [
    "df = pd.read_csv(\"D:/Study/MCA/4th Sem/DA/cars.csv\")\n",
    "df.head()"
   ]
  },
  {
   "cell_type": "code",
   "execution_count": 26,
   "metadata": {},
   "outputs": [
    {
     "name": "stdout",
     "output_type": "stream",
     "text": [
      "<class 'pandas.core.series.Series'>\n",
      "[[110]\n",
      " [110]\n",
      " [ 93]\n",
      " [110]\n",
      " [175]\n",
      " [105]\n",
      " [245]\n",
      " [ 62]\n",
      " [ 95]\n",
      " [123]\n",
      " [123]\n",
      " [180]\n",
      " [180]\n",
      " [180]\n",
      " [205]\n",
      " [215]\n",
      " [230]\n",
      " [ 66]\n",
      " [ 52]\n",
      " [ 65]\n",
      " [ 97]\n",
      " [150]\n",
      " [150]\n",
      " [245]\n",
      " [175]\n",
      " [ 66]\n",
      " [ 91]\n",
      " [113]\n",
      " [264]\n",
      " [175]\n",
      " [335]\n",
      " [109]]\n",
      "[[2.62 ]\n",
      " [2.875]\n",
      " [2.32 ]\n",
      " [3.215]\n",
      " [3.44 ]\n",
      " [3.46 ]\n",
      " [3.57 ]\n",
      " [3.19 ]\n",
      " [3.15 ]\n",
      " [3.44 ]\n",
      " [3.44 ]\n",
      " [4.07 ]\n",
      " [3.73 ]\n",
      " [3.78 ]\n",
      " [5.25 ]\n",
      " [5.424]\n",
      " [5.345]\n",
      " [2.2  ]\n",
      " [1.615]\n",
      " [1.835]\n",
      " [2.465]\n",
      " [3.52 ]\n",
      " [3.435]\n",
      " [3.84 ]\n",
      " [3.845]\n",
      " [1.935]\n",
      " [2.14 ]\n",
      " [1.513]\n",
      " [3.17 ]\n",
      " [2.77 ]\n",
      " [3.57 ]\n",
      " [2.78 ]]\n"
     ]
    }
   ],
   "source": [
    "X = df['hp']\n",
    "Y = df['wt']\n",
    "print(type(X))\n",
    "X = X.values\n",
    "X = X.reshape(len(X), 1)\n",
    "print(X)\n",
    "Y = Y.values\n",
    "Y = Y.reshape(len(Y),1)\n",
    "print(Y)"
   ]
  },
  {
   "cell_type": "code",
   "execution_count": 27,
   "metadata": {},
   "outputs": [
    {
     "name": "stdout",
     "output_type": "stream",
     "text": [
      "[[110]\n",
      " [110]\n",
      " [ 93]\n",
      " [110]\n",
      " [175]\n",
      " [105]\n",
      " [245]\n",
      " [ 62]\n",
      " [ 95]\n",
      " [123]\n",
      " [123]\n",
      " [180]\n",
      " [180]\n",
      " [180]\n",
      " [205]\n",
      " [215]\n",
      " [230]\n",
      " [ 66]\n",
      " [ 52]\n",
      " [ 65]\n",
      " [ 97]\n",
      " [150]\n",
      " [150]\n",
      " [245]\n",
      " [175]]\n",
      "[[ 66]\n",
      " [ 91]\n",
      " [113]\n",
      " [264]\n",
      " [175]\n",
      " [335]\n",
      " [109]]\n",
      "[[2.62 ]\n",
      " [2.875]\n",
      " [2.32 ]\n",
      " [3.215]\n",
      " [3.44 ]\n",
      " [3.46 ]\n",
      " [3.57 ]\n",
      " [3.19 ]\n",
      " [3.15 ]\n",
      " [3.44 ]\n",
      " [3.44 ]\n",
      " [4.07 ]\n",
      " [3.73 ]\n",
      " [3.78 ]\n",
      " [5.25 ]\n",
      " [5.424]\n",
      " [5.345]\n",
      " [2.2  ]\n",
      " [1.615]\n",
      " [1.835]\n",
      " [2.465]\n",
      " [3.52 ]\n",
      " [3.435]\n",
      " [3.84 ]\n",
      " [3.845]]\n",
      "[[1.935]\n",
      " [2.14 ]\n",
      " [1.513]\n",
      " [3.17 ]\n",
      " [2.77 ]\n",
      " [3.57 ]\n",
      " [2.78 ]]\n"
     ]
    }
   ],
   "source": [
    "# Split the data into training/testing sets\n",
    "X_train = X[:-7]\n",
    "X_test = X[-7:]\n",
    "print(X_train)\n",
    "print(X_test)\n",
    "# Split the targets into training/testing sets\n",
    "Y_train = Y[:-7]\n",
    "Y_test = Y[-7:]\n",
    "print(Y_train)\n",
    "print(Y_test)"
   ]
  },
  {
   "cell_type": "code",
   "execution_count": 28,
   "metadata": {},
   "outputs": [
    {
     "data": {
      "text/plain": [
       "<matplotlib.collections.PathCollection at 0x1fd9689f198>"
      ]
     },
     "execution_count": 28,
     "metadata": {},
     "output_type": "execute_result"
    },
    {
     "data": {
      "image/png": "[encoded data removed]",
      "text/plain": [
       "<Figure size 432x288 with 1 Axes>"
      ]
     },
     "metadata": {
      "needs_background": "light"
     },
     "output_type": "display_data"
    }
   ],
   "source": [
    "# Create linear regression object\n",
    "regr = linear_model.LinearRegression()\n",
    "\n",
    "# Train the model using the training sets - developing the model\n",
    "regr.fit(X_train, Y_train)\n",
    "\n",
    "# Predicting the model\n",
    "Y_pred = regr.predict(X_test)\n",
    "\n",
    "# Plot outputs\n",
    "plt.scatter(X_test, Y_pred, color = 'red', linewidth = 3)"
   ]
  },
  {
   "cell_type": "code",
   "execution_count": 29,
   "metadata": {},
   "outputs": [
    {
     "name": "stdout",
     "output_type": "stream",
     "text": [
      "1.3812518957763489\n"
     ]
    }
   ],
   "source": [
    "rms = sqrt(mean_squared_error(Y_test, Y_pred))\n",
    "print(rms)"
   ]
  }
 ],
 "metadata": {
  "kernelspec": {
   "display_name": "Python 3",
   "language": "python",
   "name": "python3"
  },
  "language_info": {
   "codemirror_mode": {
    "name": "ipython",
    "version": 3
   },
   "file_extension": ".py",
   "mimetype": "text/x-python",
   "name": "python",
   "nbconvert_exporter": "python",
   "pygments_lexer": "ipython3",
   "version": "3.7.1"
  }
 },
 "nbformat": 4,
 "nbformat_minor": 2
}
