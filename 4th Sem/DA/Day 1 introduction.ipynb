{
 "cells": [
  {
   "cell_type": "markdown",
   "metadata": {},
   "source": [
    "# My first attempt"
   ]
  },
  {
   "cell_type": "code",
   "execution_count": 1,
   "metadata": {},
   "outputs": [
    {
     "name": "stdout",
     "output_type": "stream",
     "text": [
      "Hello world\n"
     ]
    }
   ],
   "source": [
    "print(\"Hello world\")"
   ]
  },
  {
   "cell_type": "code",
   "execution_count": 4,
   "metadata": {},
   "outputs": [
    {
     "name": "stdout",
     "output_type": "stream",
     "text": [
      "[1, 2, 3, 4, 5]\n",
      "[1, 2, 'a', 'b']\n",
      "<class 'list'>\n"
     ]
    }
   ],
   "source": [
    "# list of numbers\n",
    "a = [1,2,3,4,5]\n",
    "b = [1,2,'a','b']\n",
    "print(a)\n",
    "print(b)\n",
    "print(type(a))"
   ]
  },
  {
   "cell_type": "code",
   "execution_count": 17,
   "metadata": {},
   "outputs": [
    {
     "name": "stdout",
     "output_type": "stream",
     "text": [
      "0      34\n",
      "1     108\n",
      "2      64\n",
      "3      88\n",
      "4     153\n",
      "5      51\n",
      "6     100\n",
      "7     205\n",
      "8      55\n",
      "9      60\n",
      "10     75\n",
      "11     90\n",
      "12    150\n",
      "13    200\n",
      "14     70\n",
      "15     80\n",
      "Name: meal_amt, dtype: int64\n",
      "0      5\n",
      "1     17\n",
      "2     11\n",
      "3      8\n",
      "4     14\n",
      "5      5\n",
      "6     15\n",
      "7     10\n",
      "8      5\n",
      "9      5\n",
      "10    10\n",
      "11    10\n",
      "12    20\n",
      "13    10\n",
      "14     5\n",
      "15    10\n",
      "Name: tips, dtype: int64\n"
     ]
    }
   ],
   "source": [
    "import numpy as np\n",
    "import matplotlib as plt\n",
    "import scipy as sp\n",
    "import seaborn as sb\n",
    "import pandas as pd\n",
    "df = pd.read_csv(\"D:/Study/4th Sem/DA/hoteltips.csv\")\n",
    "df.head()\n",
    "x = df['meal_amt']\n",
    "y = df['tips']\n",
    "print(x)\n",
    "print(y)\n"
   ]
  }
 ],
 "metadata": {
  "kernelspec": {
   "display_name": "Python 3",
   "language": "python",
   "name": "python3"
  },
  "language_info": {
   "codemirror_mode": {
    "name": "ipython",
    "version": 3
   },
   "file_extension": ".py",
   "mimetype": "text/x-python",
   "name": "python",
   "nbconvert_exporter": "python",
   "pygments_lexer": "ipython3",
   "version": "3.7.1"
  }
 },
 "nbformat": 4,
 "nbformat_minor": 2
}
